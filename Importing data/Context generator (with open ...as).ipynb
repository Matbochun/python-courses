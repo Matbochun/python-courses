{
 "cells": [
  {
   "cell_type": "code",
   "execution_count": 1,
   "metadata": {},
   "outputs": [
    {
     "name": "stdout",
     "output_type": "stream",
     "text": [
      "{'\"Aruba\"': 1, '\"Afghanistan\"': 1, '\"Angola\"': 1, '\"Albania\"': 1, '\"Andorra\"': 1, '\"Arab World\"': 1, '\"United Arab Emirates\"': 1, '\"Argentina\"': 1, '\"Armenia\"': 1, '\"American Samoa\"': 1, '\"Antigua and Barbuda\"': 1, '\"Australia\"': 1, '\"Austria\"': 1, '\"Azerbaijan\"': 1, '\"Burundi\"': 1, '\"Belgium\"': 1, '\"Benin\"': 1, '\"Burkina Faso\"': 1, '\"Bangladesh\"': 1, '\"Bulgaria\"': 1, '\"Bahrain\"': 1, '\"Bahamas': 1, '\"Bosnia and Herzegovina\"': 1, '\"Belarus\"': 1, '\"Belize\"': 1, '\"Bermuda\"': 1, '\"Bolivia\"': 1, '\"Brazil\"': 1, '\"Barbados\"': 1, '\"Brunei Darussalam\"': 1, '\"Bhutan\"': 1, '\"Botswana\"': 1, '\"Central African Republic\"': 1, '\"Canada\"': 1, '\"Central Europe and the Baltics\"': 1, '\"Switzerland\"': 1, '\"Channel Islands\"': 1, '\"Chile\"': 1, '\"China\"': 1, '\"Cote d\\'Ivoire\"': 1, '\"Cameroon\"': 1, '\"Congo': 2, '\"Colombia\"': 1, '\"Comoros\"': 1, '\"Cabo Verde\"': 1, '\"Costa Rica\"': 1, '\"Caribbean small states\"': 1, '\"Cuba\"': 1, '\"Curacao\"': 1, '\"Cayman Islands\"': 1, '\"Cyprus\"': 1, '\"Czech Republic\"': 1, '\"Germany\"': 1, '\"Djibouti\"': 1, '\"Dominica\"': 1, '\"Denmark\"': 1, '\"Dominican Republic\"': 1, '\"Algeria\"': 1, '\"East Asia & Pacific (excluding high income)\"': 1, '\"Early-demographic dividend\"': 1, '\"East Asia & Pacific\"': 1, '\"Europe & Central Asia (excluding high income)\"': 1, '\"Europe & Central Asia\"': 1, '\"Ecuador\"': 1, '\"Egypt': 1, '\"Euro area\"': 1, '\"Eritrea\"': 1, '\"Spain\"': 1, '\"Estonia\"': 1, '\"Ethiopia\"': 1, '\"European Union\"': 1, '\"Fragile and conflict affected situations\"': 1, '\"Finland\"': 1, '\"Fiji\"': 1, '\"France\"': 1, '\"Faroe Islands\"': 1, '\"Micronesia': 1, '\"Gabon\"': 1, '\"United Kingdom\"': 1, '\"Georgia\"': 1, '\"Ghana\"': 1, '\"Gibraltar\"': 1, '\"Guinea\"': 1, '\"Gambia': 1, '\"Guinea-Bissau\"': 1, '\"Equatorial Guinea\"': 1, '\"Greece\"': 1, '\"Grenada\"': 1, '\"Greenland\"': 1, '\"Guatemala\"': 1, '\"Guam\"': 1, '\"Guyana\"': 1, '\"High income\"': 1, '\"Hong Kong SAR': 1, '\"Honduras\"': 1, '\"Heavily indebted poor countries (HIPC)\"': 1, '\"Croatia\"': 1, '\"Haiti\"': 1, '\"Hungary\"': 1, '\"IBRD only\"': 1, '\"IDA & IBRD total\"': 1, '\"IDA total\"': 1, '\"IDA blend\"': 1, '\"Indonesia\"': 1, '\"IDA only\"': 1, '\"Isle of Man\"': 1, '\"India\"': 1, '\"Not classified\"': 1, '\"Ireland\"': 1, '\"Iran': 1, '\"Iraq\"': 1, '\"Iceland\"': 1, '\"Israel\"': 1, '\"Italy\"': 1, '\"Jamaica\"': 1, '\"Jordan\"': 1, '\"Japan\"': 1, '\"Kazakhstan\"': 1, '\"Kenya\"': 1, '\"Kyrgyz Republic\"': 1, '\"Cambodia\"': 1, '\"Kiribati\"': 1, '\"St. Kitts and Nevis\"': 1, '\"Korea': 2, '\"Kuwait\"': 1, '\"Latin America & Caribbean (excluding high income)\"': 1, '\"Lao PDR\"': 1, '\"Lebanon\"': 1, '\"Liberia\"': 1, '\"Libya\"': 1, '\"St. Lucia\"': 1, '\"Latin America & Caribbean\"': 1, '\"Least developed countries: UN classification\"': 1, '\"Low income\"': 1, '\"Liechtenstein\"': 1, '\"Sri Lanka\"': 1, '\"Lower middle income\"': 1, '\"Low & middle income\"': 1, '\"Lesotho\"': 1, '\"Late-demographic dividend\"': 1, '\"Lithuania\"': 1, '\"Luxembourg\"': 1, '\"Latvia\"': 1, '\"Macao SAR': 1, '\"St. Martin (French part)\"': 1, '\"Morocco\"': 1, '\"Monaco\"': 1, '\"Moldova\"': 1, '\"Madagascar\"': 1, '\"Maldives\"': 1, '\"Middle East & North Africa\"': 1, '\"Mexico\"': 1, '\"Marshall Islands\"': 1, '\"Middle income\"': 1, '\"Macedonia': 1, '\"Mali\"': 1, '\"Malta\"': 1, '\"Myanmar\"': 1, '\"Middle East & North Africa (excluding high income)\"': 1, '\"Montenegro\"': 1, '\"Mongolia\"': 1, '\"Northern Mariana Islands\"': 1, '\"Mozambique\"': 1, '\"Mauritania\"': 1, '\"Mauritius\"': 1, '\"Malawi\"': 1, '\"Malaysia\"': 1, '\"North America\"': 1, '\"Namibia\"': 1, '\"New Caledonia\"': 1, '\"Niger\"': 1, '\"Nigeria\"': 1, '\"Nicaragua\"': 1, '\"Netherlands\"': 1, '\"Norway\"': 1, '\"Nepal\"': 1, '\"Nauru\"': 1, '\"New Zealand\"': 1, '\"OECD members\"': 1, '\"Oman\"': 1, '\"Other small states\"': 1, '\"Pakistan\"': 1, '\"Panama\"': 1, '\"Peru\"': 1, '\"Philippines\"': 1, '\"Palau\"': 1, '\"Papua New Guinea\"': 1, '\"Poland\"': 1, '\"Pre-demographic dividend\"': 1, '\"Puerto Rico\"': 1, '\"Portugal\"': 1, '\"Paraguay\"': 1, '\"West Bank and Gaza\"': 1, '\"Pacific island small states\"': 1, '\"Post-demographic dividend\"': 1, '\"French Polynesia\"': 1, '\"Qatar\"': 1, '\"Romania\"': 1, '\"Russian Federation\"': 1, '\"Rwanda\"': 1, '\"South Asia\"': 1, '\"Saudi Arabia\"': 1, '\"Sudan\"': 1, '\"Senegal\"': 1, '\"Singapore\"': 1, '\"Solomon Islands\"': 1, '\"Sierra Leone\"': 1, '\"El Salvador\"': 1, '\"San Marino\"': 1, '\"Somalia\"': 1, '\"Serbia\"': 1, '\"Sub-Saharan Africa (excluding high income)\"': 1, '\"South Sudan\"': 1, '\"Sub-Saharan Africa\"': 1, '\"Small states\"': 1, '\"Sao Tome and Principe\"': 1, '\"Suriname\"': 1, '\"Slovak Republic\"': 1, '\"Slovenia\"': 1, '\"Sweden\"': 1, '\"Swaziland\"': 1, '\"Sint Maarten (Dutch part)\"': 1, '\"Seychelles\"': 1, '\"Syrian Arab Republic\"': 1, '\"Turks and Caicos Islands\"': 1, '\"Chad\"': 1, '\"East Asia & Pacific (IDA & IBRD countries)\"': 1, '\"Europe & Central Asia (IDA & IBRD countries)\"': 1, '\"Togo\"': 1, '\"Thailand\"': 1, '\"Tajikistan\"': 1, '\"Turkmenistan\"': 1, '\"Latin America & the Caribbean (IDA & IBRD countries)\"': 1, '\"Timor-Leste\"': 1, '\"Middle East & North Africa (IDA & IBRD countries)\"': 1, '\"Tonga\"': 1, '\"South Asia (IDA & IBRD)\"': 1, '\"Sub-Saharan Africa (IDA & IBRD countries)\"': 1, '\"Trinidad and Tobago\"': 1, '\"Tunisia\"': 1, '\"Turkey\"': 1, '\"Tuvalu\"': 1, '\"Tanzania\"': 1, '\"Uganda\"': 1, '\"Ukraine\"': 1, '\"Upper middle income\"': 1, '\"Uruguay\"': 1, '\"United States\"': 1, '\"Uzbekistan\"': 1, '\"St. Vincent and the Grenadines\"': 1, '\"Venezuela': 1, '\"British Virgin Islands\"': 1, '\"Virgin Islands (U.S.)\"': 1, '\"Vietnam\"': 1, '\"Vanuatu\"': 1, '\"World\"': 1, '\"Samoa\"': 1, '\"Kosovo\"': 1, '\"Yemen': 1, '\"South Africa\"': 1, '\"Zambia\"': 1, '\"Zimbabwe\"': 1, '': 736}\n"
     ]
    }
   ],
   "source": [
    "# Open a connection to the file\n",
    "with open('country_population.csv') as file:\n",
    "\n",
    "    # Skip the column names\n",
    "    file.readline()\n",
    "\n",
    "    # Initialize an empty dictionary: counts_dict\n",
    "    counts_dict = {}\n",
    "\n",
    "    # Process only the first 1000 rows\n",
    "    for j in range(0,1000):\n",
    "\n",
    "        # Split the current line into a list: line\n",
    "        line = file.readline().split(',')\n",
    "\n",
    "        # Get the value for the first column: first_col\n",
    "        first_col = line[0]\n",
    "\n",
    "        # If the column value is in the dict, increment its value\n",
    "        if first_col in counts_dict.keys():\n",
    "            counts_dict[first_col] += 1\n",
    "\n",
    "        # Else, add to the dict and set value to 1\n",
    "        else:\n",
    "            counts_dict[first_col] = 1\n",
    "\n",
    "# Print the resulting dictionary\n",
    "print(counts_dict)"
   ]
  },
  {
   "cell_type": "code",
   "execution_count": null,
   "metadata": {},
   "outputs": [],
   "source": []
  }
 ],
 "metadata": {
  "kernelspec": {
   "display_name": "Python 3",
   "language": "python",
   "name": "python3"
  },
  "language_info": {
   "codemirror_mode": {
    "name": "ipython",
    "version": 3
   },
   "file_extension": ".py",
   "mimetype": "text/x-python",
   "name": "python",
   "nbconvert_exporter": "python",
   "pygments_lexer": "ipython3",
   "version": "3.7.3"
  }
 },
 "nbformat": 4,
 "nbformat_minor": 4
}
