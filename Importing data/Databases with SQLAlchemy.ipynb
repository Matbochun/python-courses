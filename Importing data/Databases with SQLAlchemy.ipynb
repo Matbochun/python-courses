{
 "cells": [
  {
   "cell_type": "markdown",
   "metadata": {},
   "source": [
    "Code and files based on Datacamp course: \n",
    "Data Scientist with Pyton"
   ]
  },
  {
   "cell_type": "code",
   "execution_count": null,
   "metadata": {},
   "outputs": [],
   "source": [
    "# Import necessary module\n",
    "from sqlalchemy import create_engine\n",
    "import pandas as pd\n",
    "\n",
    "# Create engine: engine\n",
    "engine = create_engine('sqlite:///Chinook.sqlite') # connecting to a databse on sqlite server\n",
    "\n",
    "# Connecting to database\n",
    "con = engine.connect()\n",
    "\n",
    "# Save the table names to a list: table_names\n",
    "table_names = engine.table_names()\n",
    "\n",
    "# Print the table names to the shell\n",
    "print(table_names)\n",
    "\n",
    "# Querying database: creating results object as rs\n",
    "rs = con.execute(\"select * from orders\")\n",
    "\n",
    "# Passing result into DataFrame\n",
    "df = pd.DataFrame(rs.fetchall())  # fecthes all rows\n",
    "\n",
    "# Print head of DataFrame\n",
    "print(df.head())\n",
    "\n",
    "# Changing columns name\n",
    "df.columns = rs.keys()\n",
    "\n",
    "# Closing connection\n",
    "con.close()\n",
    "\n",
    "# Alternative: Using context manager to avoid closing at the end\n",
    "\n",
    "with engine.connect () as con:\n",
    "        rs = con.execute(\"select column_name from table_name\")\n",
    "        df = pd.DataFrame(rs.fetchmany(size=5)) # imports 5 rows\n",
    "        df.columns = rs.keys()\n",
    "\n"
   ]
  },
  {
   "cell_type": "code",
   "execution_count": null,
   "metadata": {},
   "outputs": [],
   "source": [
    "# Tu sum up these steps:\n",
    "\n",
    "# 1. Importing packages\n",
    "from sqlalchemy import create_engine\n",
    "import pandas as pd\n",
    "# 2. Creating an engine\n",
    "engine = create_engine('sqlite:///Chinook.sqlite') # connecting to a databse on sqlite server\n",
    "# 3. Connecting to a database\n",
    "with engine.connect () as con:\n",
    "# 4. Executing query\n",
    "        rs = con.execute(\"select column_name from table_name\")\n",
    "# 5. Passing the results to a DataFrame        \n",
    "        df = pd.DataFrame(rs.fetchmany(size=5)) # imports 5 rows\n",
    "# 6. Naming the colums        \n",
    "        df.columns = rs.keys()\n"
   ]
  },
  {
   "cell_type": "code",
   "execution_count": null,
   "metadata": {},
   "outputs": [],
   "source": []
  }
 ],
 "metadata": {
  "kernelspec": {
   "display_name": "Python 3",
   "language": "python",
   "name": "python3"
  },
  "language_info": {
   "codemirror_mode": {
    "name": "ipython",
    "version": 3
   },
   "file_extension": ".py",
   "mimetype": "text/x-python",
   "name": "python",
   "nbconvert_exporter": "python",
   "pygments_lexer": "ipython3",
   "version": "3.7.3"
  }
 },
 "nbformat": 4,
 "nbformat_minor": 4
}
