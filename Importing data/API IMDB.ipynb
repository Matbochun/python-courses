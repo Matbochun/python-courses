{
 "cells": [
  {
   "cell_type": "code",
   "execution_count": 4,
   "metadata": {},
   "outputs": [
    {
     "name": "stdout",
     "output_type": "stream",
     "text": [
      "Title: Hackers\n",
      "Year: 1995\n",
      "Rated: PG-13\n",
      "Released: 15 Sep 1995\n",
      "Runtime: 107 min\n",
      "Genre: Comedy, Crime, Drama, Thriller\n",
      "Director: Iain Softley\n",
      "Writer: Rafael Moreu\n",
      "Actors: Jonny Lee Miller, Angelina Jolie, Jesse Bradford, Matthew Lillard\n",
      "Plot: Hackers are blamed for making a virus that will capsize five oil tankers.\n",
      "Language: English, Italian, Japanese, Russian\n",
      "Country: USA\n",
      "Awards: N/A\n",
      "Poster: https://m.media-amazon.com/images/M/MV5BNmExMTkyYjItZTg0YS00NWYzLTkwMjItZWJiOWQ2M2ZkYjE4XkEyXkFqcGdeQXVyMTQxNzMzNDI@._V1_SX300.jpg\n",
      "Ratings: [{'Source': 'Internet Movie Database', 'Value': '6.2/10'}, {'Source': 'Rotten Tomatoes', 'Value': '33%'}, {'Source': 'Metacritic', 'Value': '46/100'}]\n",
      "Metascore: 46\n",
      "imdbRating: 6.2\n",
      "imdbVotes: 61,754\n",
      "imdbID: tt0113243\n",
      "Type: movie\n",
      "DVD: 24 Apr 2001\n",
      "BoxOffice: N/A\n",
      "Production: MGM\n",
      "Website: N/A\n",
      "Response: True\n"
     ]
    }
   ],
   "source": [
    "import requests \n",
    "url = 'http://www.omdbapi.com/?apikey=72bc447a&t=hackers' \n",
    "#?t=hacker - query string: requesting to return data with a movie of a title 'Hacker'\n",
    "# apikey - the key to a particular api\n",
    "\n",
    "r = requests.get(url)\n",
    "json_data = r.json()\n",
    "\n",
    "for key, value in json_data.items():\n",
    "    print(key+':', value)"
   ]
  },
  {
   "cell_type": "code",
   "execution_count": 5,
   "metadata": {},
   "outputs": [
    {
     "name": "stdout",
     "output_type": "stream",
     "text": [
      "{\"Title\":\"Hackers\",\"Year\":\"1995\",\"Rated\":\"PG-13\",\"Released\":\"15 Sep 1995\",\"Runtime\":\"107 min\",\"Genre\":\"Comedy, Crime, Drama, Thriller\",\"Director\":\"Iain Softley\",\"Writer\":\"Rafael Moreu\",\"Actors\":\"Jonny Lee Miller, Angelina Jolie, Jesse Bradford, Matthew Lillard\",\"Plot\":\"Hackers are blamed for making a virus that will capsize five oil tankers.\",\"Language\":\"English, Italian, Japanese, Russian\",\"Country\":\"USA\",\"Awards\":\"N/A\",\"Poster\":\"https://m.media-amazon.com/images/M/MV5BNmExMTkyYjItZTg0YS00NWYzLTkwMjItZWJiOWQ2M2ZkYjE4XkEyXkFqcGdeQXVyMTQxNzMzNDI@._V1_SX300.jpg\",\"Ratings\":[{\"Source\":\"Internet Movie Database\",\"Value\":\"6.2/10\"},{\"Source\":\"Rotten Tomatoes\",\"Value\":\"33%\"},{\"Source\":\"Metacritic\",\"Value\":\"46/100\"}],\"Metascore\":\"46\",\"imdbRating\":\"6.2\",\"imdbVotes\":\"61,754\",\"imdbID\":\"tt0113243\",\"Type\":\"movie\",\"DVD\":\"24 Apr 2001\",\"BoxOffice\":\"N/A\",\"Production\":\"MGM\",\"Website\":\"N/A\",\"Response\":\"True\"}\n"
     ]
    }
   ],
   "source": [
    "# Print the text of the response\n",
    "r = r.text\n",
    "print(r)"
   ]
  },
  {
   "cell_type": "code",
   "execution_count": null,
   "metadata": {},
   "outputs": [],
   "source": []
  }
 ],
 "metadata": {
  "kernelspec": {
   "display_name": "Python 3",
   "language": "python",
   "name": "python3"
  },
  "language_info": {
   "codemirror_mode": {
    "name": "ipython",
    "version": 3
   },
   "file_extension": ".py",
   "mimetype": "text/x-python",
   "name": "python",
   "nbconvert_exporter": "python",
   "pygments_lexer": "ipython3",
   "version": "3.7.3"
  }
 },
 "nbformat": 4,
 "nbformat_minor": 4
}
