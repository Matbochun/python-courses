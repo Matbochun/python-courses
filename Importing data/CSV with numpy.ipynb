{
 "cells": [
  {
   "cell_type": "code",
   "execution_count": null,
   "metadata": {},
   "outputs": [],
   "source": [
    "''''\n",
    "Much of the time you will need to import datasets which have different datatypes in different columns; \n",
    "one column may contain strings and another floats, for example. The function np.loadtxt() will freak at this. \n",
    "There is another function, np.genfromtxt(), which can handle such structures. \n",
    "If we pass dtype=None to it, it will figure out what types each column should be.\n",
    "\n",
    "Import 'titanic.csv' using the function np.genfromtxt() as follows:\n",
    "\n",
    "data = np.genfromtxt('titanic.csv', delimiter=',', names=True, dtype=None)\n",
    "Here, the first argument is the filename, \n",
    "Te second specifies the delimiter, \n",
    "Tird argument names tells us there is a header. \n",
    "Because the data are of different types, data is an object called a structured array. \n",
    "Because numpy arrays have to contain elements that are all the same type, the structured array solves this by being a 1D array, \n",
    "where each element of the array is a row of the flat file imported. \n",
    "You can test this by checking out the array's shape in the shell by executing np.shape(data).\n",
    "\n",
    "Accessing rows and columns of structured arrays is super-intuitive: \n",
    "- to get the ith row, merely execute data[i] \n",
    "- to get the column with name 'Fare', execute data['Fare'].\n",
    "\n",
    "'''''\n",
    "\n",
    "# Loadtext is good for importing homogenous data type\n",
    "import numpy as np\n",
    "filename = 'expo.csv'\n",
    "\n",
    "# data = np.genfromtxt(filename, delimiter = ',', skiprows+1, usecols=[0,2]) for text files\n",
    "# skips row no.1\n",
    "# uses only columns 1 and 3\n",
    "\n",
    "# data = np.recfromcsv(filename) for csv files\n",
    "\n",
    "print(data)\n"
   ]
  },
  {
   "cell_type": "code",
   "execution_count": null,
   "metadata": {},
   "outputs": [],
   "source": []
  },
  {
   "cell_type": "code",
   "execution_count": null,
   "metadata": {},
   "outputs": [],
   "source": []
  }
 ],
 "metadata": {
  "kernelspec": {
   "display_name": "Python 3",
   "language": "python",
   "name": "python3"
  },
  "language_info": {
   "codemirror_mode": {
    "name": "ipython",
    "version": 3
   },
   "file_extension": ".py",
   "mimetype": "text/x-python",
   "name": "python",
   "nbconvert_exporter": "python",
   "pygments_lexer": "ipython3",
   "version": "3.7.3"
  }
 },
 "nbformat": 4,
 "nbformat_minor": 4
}
