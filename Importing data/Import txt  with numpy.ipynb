{
 "cells": [
  {
   "cell_type": "code",
   "execution_count": 29,
   "metadata": {},
   "outputs": [
    {
     "name": "stdout",
     "output_type": "stream",
     "text": [
      "\n"
     ]
    }
   ],
   "source": [
    "# Opening a file and closing it\n",
    "\n",
    "filename ='test.txt'\n",
    "file = open(filename, mode = 'r') # 'r' i to read; 'w' is to write\n",
    "text = file.read()"
   ]
  },
  {
   "cell_type": "code",
   "execution_count": 27,
   "metadata": {},
   "outputs": [
    {
     "name": "stdout",
     "output_type": "stream",
     "text": [
      "1. Declare and initialize a dictionary to have some key-value pairs.\n",
      "2. Find the sum of all the values in the dictionary.\n",
      "3. Print the total sum.\n",
      "4. Exit.\n"
     ]
    }
   ],
   "source": [
    "print(text)"
   ]
  },
  {
   "cell_type": "code",
   "execution_count": 31,
   "metadata": {},
   "outputs": [
    {
     "name": "stdout",
     "output_type": "stream",
     "text": [
      "1. Declare and initialize a dictionary to have some key-value pairs.\n",
      "\n",
      "2. Find the sum of all the values in the dictionary.\n",
      "3. Print the total sum.\n",
      "4. Exit.\n"
     ]
    }
   ],
   "source": [
    "# Opening a file with 'with statement'(no need to close)\n",
    "\n",
    "with open ('test.txt', 'r') as file:\n",
    "    print(file.readline()) # reads the first line\n",
    "    print(file.read()) # reads the whole content\n"
   ]
  },
  {
   "cell_type": "code",
   "execution_count": 24,
   "metadata": {},
   "outputs": [
    {
     "data": {
      "text/plain": [
       "'C:\\\\Users\\\\matbo\\\\Desktop\\\\Data Science\\\\Jupyter Lab\\\\Datacamp Python\\\\Importing data'"
      ]
     },
     "execution_count": 24,
     "metadata": {},
     "output_type": "execute_result"
    }
   ],
   "source": [
    "pwd 'test.txt'"
   ]
  },
  {
   "cell_type": "code",
   "execution_count": null,
   "metadata": {},
   "outputs": [],
   "source": []
  }
 ],
 "metadata": {
  "kernelspec": {
   "display_name": "Python 3",
   "language": "python",
   "name": "python3"
  },
  "language_info": {
   "codemirror_mode": {
    "name": "ipython",
    "version": 3
   },
   "file_extension": ".py",
   "mimetype": "text/x-python",
   "name": "python",
   "nbconvert_exporter": "python",
   "pygments_lexer": "ipython3",
   "version": "3.7.3"
  }
 },
 "nbformat": 4,
 "nbformat_minor": 4
}
