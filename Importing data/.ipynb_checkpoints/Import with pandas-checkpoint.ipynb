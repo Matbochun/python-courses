{
 "cells": [
  {
   "cell_type": "code",
   "execution_count": 2,
   "metadata": {},
   "outputs": [],
   "source": [
    "import numpy as np\n",
    "import pandas as pd"
   ]
  },
  {
   "cell_type": "code",
   "execution_count": 3,
   "metadata": {},
   "outputs": [
    {
     "name": "stdout",
     "output_type": "stream",
     "text": [
      "  Country Code Short Name Table Name Long Name 2-alpha code  Currency Unit  \\\n",
      "0          ABW      Aruba      Aruba     Aruba           AW  Aruban florin   \n",
      "\n",
      "  Special Notes                     Region Income Group WB-2 code  ...  \\\n",
      "0           NaN  Latin America & Caribbean  High income        AW  ...   \n",
      "\n",
      "  Government Accounting concept  \\\n",
      "0                           NaN   \n",
      "\n",
      "                     IMF data dissemination standard Latest population census  \\\n",
      "0  Enhanced General Data Dissemination System (e-...                     2010   \n",
      "\n",
      "  Latest household survey Source of most recent Income and expenditure data  \\\n",
      "0                     NaN                                               NaN   \n",
      "\n",
      "  Vital registration complete Latest agricultural census  \\\n",
      "0                         Yes                        NaN   \n",
      "\n",
      "  Latest industrial data Latest trade data Unnamed: 30  \n",
      "0                    NaN            2016.0         NaN  \n",
      "\n",
      "[1 rows x 31 columns]\n",
      "    Country Code Short Name Table Name             Long Name 2-alpha code  \\\n",
      "262          ZWE   Zimbabwe   Zimbabwe  Republic of Zimbabwe           ZW   \n",
      "\n",
      "    Currency Unit Special Notes              Region         Income Group  \\\n",
      "262   U.S. dollar           NaN  Sub-Saharan Africa  Lower middle income   \n",
      "\n",
      "    WB-2 code  ... Government Accounting concept  \\\n",
      "262        ZW  ...  Budgetary central government   \n",
      "\n",
      "                       IMF data dissemination standard  \\\n",
      "262  Enhanced General Data Dissemination System (e-...   \n",
      "\n",
      "    Latest population census              Latest household survey  \\\n",
      "262                     2012  Demographic and Health Survey, 2015   \n",
      "\n",
      "    Source of most recent Income and expenditure data  \\\n",
      "262        Integrated household survey (IHS), 2011/12   \n",
      "\n",
      "    Vital registration complete Latest agricultural census  \\\n",
      "262                         NaN                        NaN   \n",
      "\n",
      "    Latest industrial data Latest trade data Unnamed: 30  \n",
      "262                    NaN            2017.0         NaN  \n",
      "\n",
      "[1 rows x 31 columns]\n"
     ]
    }
   ],
   "source": [
    "file = 'WDICountry.csv'\n",
    "df = pd.read_csv(file)\n",
    "print(df.head(1))\n",
    "print(df.tail(1))"
   ]
  },
  {
   "cell_type": "code",
   "execution_count": 4,
   "metadata": {},
   "outputs": [
    {
     "name": "stdout",
     "output_type": "stream",
     "text": [
      "<class 'pandas.core.frame.DataFrame'>\n"
     ]
    }
   ],
   "source": [
    "print(type(df))"
   ]
  },
  {
   "cell_type": "code",
   "execution_count": 5,
   "metadata": {},
   "outputs": [
    {
     "name": "stdout",
     "output_type": "stream",
     "text": [
      "Index(['Country Code', 'Short Name', 'Table Name', 'Long Name', '2-alpha code',\n",
      "       'Currency Unit', 'Special Notes', 'Region', 'Income Group', 'WB-2 code',\n",
      "       'National accounts base year', 'National accounts reference year',\n",
      "       'SNA price valuation', 'Lending category', 'Other groups',\n",
      "       'System of National Accounts', 'Alternative conversion factor',\n",
      "       'PPP survey year', 'Balance of Payments Manual in use',\n",
      "       'External debt Reporting status', 'System of trade',\n",
      "       'Government Accounting concept', 'IMF data dissemination standard',\n",
      "       'Latest population census', 'Latest household survey',\n",
      "       'Source of most recent Income and expenditure data',\n",
      "       'Vital registration complete', 'Latest agricultural census',\n",
      "       'Latest industrial data', 'Latest trade data', 'Unnamed: 30'],\n",
      "      dtype='object')\n"
     ]
    }
   ],
   "source": [
    "print(df.columns)"
   ]
  },
  {
   "cell_type": "code",
   "execution_count": 6,
   "metadata": {},
   "outputs": [
    {
     "name": "stdout",
     "output_type": "stream",
     "text": [
      "RangeIndex(start=0, stop=263, step=1)\n"
     ]
    }
   ],
   "source": [
    "print(df.index)"
   ]
  },
  {
   "cell_type": "code",
   "execution_count": null,
   "metadata": {},
   "outputs": [],
   "source": [
    "print(df.values)"
   ]
  },
  {
   "cell_type": "code",
   "execution_count": null,
   "metadata": {},
   "outputs": [],
   "source": [
    "print(df.shape)"
   ]
  },
  {
   "cell_type": "code",
   "execution_count": null,
   "metadata": {},
   "outputs": [],
   "source": [
    "print(df.dtypes)"
   ]
  },
  {
   "cell_type": "code",
   "execution_count": null,
   "metadata": {},
   "outputs": [],
   "source": [
    "print(df.describe())"
   ]
  },
  {
   "cell_type": "code",
   "execution_count": null,
   "metadata": {},
   "outputs": [],
   "source": [
    "# Sorting values ('column_name', order)\n",
    "# print(df.sort_values('Short Name', ascending=True))\n"
   ]
  },
  {
   "cell_type": "code",
   "execution_count": null,
   "metadata": {},
   "outputs": [],
   "source": [
    "# printing chosen column\n",
    "print(df['Short Name'])"
   ]
  },
  {
   "cell_type": "code",
   "execution_count": null,
   "metadata": {},
   "outputs": [],
   "source": [
    "print(df[2:4])"
   ]
  },
  {
   "cell_type": "code",
   "execution_count": null,
   "metadata": {},
   "outputs": [],
   "source": [
    "# Indicating [rows or index of a row] ['column_name'] \n",
    "print(df.loc[9], ['Short Name'])"
   ]
  },
  {
   "cell_type": "code",
   "execution_count": null,
   "metadata": {},
   "outputs": [],
   "source": [
    "# Indeks location of rows and columns\n",
    "print(df.iloc[2][0:2])"
   ]
  },
  {
   "cell_type": "code",
   "execution_count": null,
   "metadata": {},
   "outputs": [],
   "source": [
    "print(df[df['Latest industrial data']> 2010])"
   ]
  },
  {
   "cell_type": "code",
   "execution_count": null,
   "metadata": {},
   "outputs": [],
   "source": [
    "print(df[df['Short Name'].isin(['Aruba'])])"
   ]
  },
  {
   "cell_type": "code",
   "execution_count": null,
   "metadata": {},
   "outputs": [],
   "source": []
  }
 ],
 "metadata": {
  "kernelspec": {
   "display_name": "Python 3",
   "language": "python",
   "name": "python3"
  },
  "language_info": {
   "codemirror_mode": {
    "name": "ipython",
    "version": 3
   },
   "file_extension": ".py",
   "mimetype": "text/x-python",
   "name": "python",
   "nbconvert_exporter": "python",
   "pygments_lexer": "ipython3",
   "version": "3.7.3"
  }
 },
 "nbformat": 4,
 "nbformat_minor": 4
}
