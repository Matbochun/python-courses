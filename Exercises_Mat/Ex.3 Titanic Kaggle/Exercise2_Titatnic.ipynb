{
 "cells": [
  {
   "cell_type": "raw",
   "metadata": {},
   "source": [
    "EXERCISE 3\n",
    "\n",
    "Dataset includes data of Titanic passangers.\n",
    "Source: Kaggle\n",
    "The task is to:\n",
    "1. Add 'Survived column' from 'gender_submission.csv'\n",
    "2. Create a file named 'result.csv' including two columns: 'Info' and 'Result'. The columns should include the following data:\n",
    "- total number of pasangers\n",
    "- number of male passengers\n",
    "- average age of passangers\n",
    "- number of survivors\n",
    "- average age of survivors\n",
    "- percentage of survivors with cabines\n",
    "- percentage of survivors without cabines\n"
   ]
  },
  {
   "cell_type": "code",
   "execution_count": 1,
   "metadata": {},
   "outputs": [],
   "source": [
    "# Step 1. Importe pandas \n",
    "import pandas as pd"
   ]
  },
  {
   "cell_type": "code",
   "execution_count": 2,
   "metadata": {},
   "outputs": [],
   "source": [
    "# Step 2. Importe csv files and create data frames\n",
    "test = pd.read_csv('test.csv')\n",
    "gender = pd.read_csv('gender_submission.csv')"
   ]
  },
  {
   "cell_type": "code",
   "execution_count": 3,
   "metadata": {},
   "outputs": [],
   "source": [
    "# Step 3. Add survive column\n",
    "df = pd.merge(left=test, right=gender, on='PassengerId')\n"
   ]
  },
  {
   "cell_type": "code",
   "execution_count": 4,
   "metadata": {},
   "outputs": [],
   "source": [
    "# Step 4. Drop unnecessary columns\n",
    "df. drop(['Fare', 'Parch', 'SibSp', 'Pclass', 'Name', 'Embarked', 'Ticket',], axis=1, inplace=True)"
   ]
  },
  {
   "cell_type": "code",
   "execution_count": null,
   "metadata": {},
   "outputs": [],
   "source": [
    "df.columns"
   ]
  },
  {
   "cell_type": "code",
   "execution_count": null,
   "metadata": {},
   "outputs": [],
   "source": [
    "print(df.head())"
   ]
  },
  {
   "cell_type": "code",
   "execution_count": null,
   "metadata": {},
   "outputs": [],
   "source": [
    "df.shape"
   ]
  },
  {
   "cell_type": "code",
   "execution_count": null,
   "metadata": {},
   "outputs": [],
   "source": [
    "df.describe()"
   ]
  },
  {
   "cell_type": "code",
   "execution_count": null,
   "metadata": {},
   "outputs": [],
   "source": [
    "df.info()"
   ]
  },
  {
   "cell_type": "code",
   "execution_count": 5,
   "metadata": {},
   "outputs": [
    {
     "name": "stdout",
     "output_type": "stream",
     "text": [
      "418\n"
     ]
    }
   ],
   "source": [
    "# Step 5. Calculate total number of pasengers\n",
    "total_passengers = df['PassengerId'].count()\n",
    "print(total_passengers)"
   ]
  },
  {
   "cell_type": "code",
   "execution_count": 6,
   "metadata": {},
   "outputs": [
    {
     "name": "stdout",
     "output_type": "stream",
     "text": [
      "266\n"
     ]
    }
   ],
   "source": [
    "# Step 6. Calculate number of male passengers \n",
    "male_passengers = len(df.loc[df[\"Sex\"]==\"male\"])\n",
    "print(male_passengers)"
   ]
  },
  {
   "cell_type": "code",
   "execution_count": 7,
   "metadata": {},
   "outputs": [
    {
     "name": "stdout",
     "output_type": "stream",
     "text": [
      "30.3\n"
     ]
    }
   ],
   "source": [
    "# Step 7. Calculate the average age of passangers\n",
    "average_age = round(df['Age'].mean(),1)\n",
    "print(average_age)"
   ]
  },
  {
   "cell_type": "code",
   "execution_count": 8,
   "metadata": {},
   "outputs": [
    {
     "name": "stdout",
     "output_type": "stream",
     "text": [
      "152\n"
     ]
    }
   ],
   "source": [
    "# Step 8. Calculate total number of survivors\n",
    "total_survivors = len(df.loc[df[\"Survived\"]==1])\n",
    "print(total_survivors)"
   ]
  },
  {
   "cell_type": "code",
   "execution_count": 9,
   "metadata": {},
   "outputs": [
    {
     "name": "stdout",
     "output_type": "stream",
     "text": [
      "266\n"
     ]
    }
   ],
   "source": [
    "# Step 9. Calculate number of male survivors\n",
    "male_survivors =df[df[\"Sex\"]=='male'].count()['Survived']\n",
    "print(male_survivors)\n",
    "\n"
   ]
  },
  {
   "cell_type": "code",
   "execution_count": 10,
   "metadata": {},
   "outputs": [
    {
     "name": "stdout",
     "output_type": "stream",
     "text": [
      "30.27\n"
     ]
    }
   ],
   "source": [
    "# Step 10. Calculate average age of survivor\n",
    "avg_age_survivors = round(df[df['Survived'] == 1].mean()['Age'],2)\n",
    "print(avg_age_survivors)"
   ]
  },
  {
   "cell_type": "code",
   "execution_count": 11,
   "metadata": {},
   "outputs": [
    {
     "name": "stdout",
     "output_type": "stream",
     "text": [
      "Passengers with cabines:  91\n",
      "Passengers with cabines who survived:  44\n",
      "Percentage of survivors with cabines:  48.0\n"
     ]
    }
   ],
   "source": [
    "# Step 11. Calculate percentage of survivors with cabines\n",
    "\n",
    "# Calculate number of passangers with and without cabins\n",
    "with_cabines = df['Cabin'].count()\n",
    "print('Passengers with cabines: ', with_cabines)\n",
    "\n",
    "# Calculate number of passanger with cabines who survived\n",
    "cabine_survivor = df[df[\"Survived\"]==1].count()['Cabin']\n",
    "print('Passengers with cabines who survived: ', cabine_survivor)\n",
    "\n",
    "# Calculate percentage of cabine survivor\n",
    "perc_cabine_survivor = round((cabine_survivor/with_cabines)*100)\n",
    "print('Percentage of survivors with cabines: ', perc_cabine_survivor)\n"
   ]
  },
  {
   "cell_type": "code",
   "execution_count": 12,
   "metadata": {},
   "outputs": [
    {
     "name": "stdout",
     "output_type": "stream",
     "text": [
      "Passengers without cabines:  327\n",
      "Passengers without cabinbes who survived:  0\n",
      "Percentage of survivors without cabines:  0\n"
     ]
    }
   ],
   "source": [
    "# Step 12. Calculate percentage of survivors with and without cabines\n",
    "\n",
    "# Calculate number of passangers without cabins\n",
    "without_cabines = total_passengers - with_cabines\n",
    "print('Passengers without cabines: ', without_cabines)\n",
    "\n",
    "# Calculate number of passanger withou cabines who survived\n",
    "no_cabine_survivor = cabine_survivor - df[df[\"Survived\"]==1].count()['Cabin']\n",
    "print('Passengers without cabinbes who survived: ', no_cabine_survivor)\n",
    "\n",
    "# Calculate percentage of cabine survivor\n",
    "perc_no_cabine_survivor = round((no_cabine_survivor/without_cabines)*100)\n",
    "print('Percentage of survivors without cabines: ', no_cabine_survivor)"
   ]
  },
  {
   "cell_type": "code",
   "execution_count": 14,
   "metadata": {},
   "outputs": [],
   "source": [
    "# Step 13. Export results to 'result.csv' file\n",
    "\n",
    "import csv\n",
    "\n",
    "csvData = [['Info', 'Result'], \n",
    "           ['Total passengers: ', total_passengers], \n",
    "           ['Male passengers: ', male_passengers], \n",
    "           ['Average age: ', average_age], \n",
    "           ['Total survivors: ', total_survivors],\n",
    "           ['Male survivors: ', male_survivors],\n",
    "           ['Average age of survivors: ', avg_age_survivors],\n",
    "           ['Percentage of cabine survivors: ', perc_cabine_survivor],\n",
    "           ['Percentage of non-cabine survivors: ', perc_no_cabine_survivor]]\n",
    "\n",
    "with open('result.csv', 'w') as csvFile:\n",
    "    writer = csv.writer(csvFile)\n",
    "    writer.writerows(csvData)\n",
    "csvFile.close()"
   ]
  },
  {
   "cell_type": "raw",
   "metadata": {},
   "source": [
    "QUESTIONS!!!\n",
    "\n",
    "1. How to deliver a better and easier calculation in steps 12 and 13?\n",
    "\n",
    "2. How to calculate in pandas DataFrame (in one line, if possible) a value for object with two variables\n",
    "For exemple: average age of male survivor on Titanic\n",
    "    \n",
    "In SQL, it's really simple:\n",
    "\n",
    "select count(*)\n",
    "from survived\n",
    "where sex = 'male'\n",
    "\n",
    "How to do that in Python/Pandas?\n"
   ]
  }
 ],
 "metadata": {
  "kernelspec": {
   "display_name": "Python 3",
   "language": "python",
   "name": "python3"
  },
  "language_info": {
   "codemirror_mode": {
    "name": "ipython",
    "version": 3
   },
   "file_extension": ".py",
   "mimetype": "text/x-python",
   "name": "python",
   "nbconvert_exporter": "python",
   "pygments_lexer": "ipython3",
   "version": "3.7.3"
  }
 },
 "nbformat": 4,
 "nbformat_minor": 4
}
