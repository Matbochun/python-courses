{
 "cells": [
  {
   "cell_type": "raw",
   "metadata": {},
   "source": [
    "Zadanie 2:\n",
    "Plik test zawiera dane pasażerów Titanica\n",
    "plik gender_submission zawiera informacje, kto przeżył rejs\n",
    "1) Do pliku test dodaj columnę survived z informacją, czy dany pasażer przeżył, czy nie\n",
    "2) Stwórz plik result, w którym będą informacje o:\n",
    "- ilu było pasażerów\n",
    "- ile mężczyzn\n",
    "- średnia wieku pasażerów\n",
    "- ile osób przeżyło\n",
    "- ilu mężczyzn przeżyło\n",
    "- średnia wieku osób, które przeżyły\n",
    "- jaki procent osób, które mają przyporządkowane kabiny przeżyły\n",
    "- jaki procent osób, które nia mają przyporządkowanych kolumn przeżyły\n",
    "to może być np.  w formie każda z informacji jako wiersz (będą dwie kolumny info i result)"
   ]
  },
  {
   "cell_type": "code",
   "execution_count": null,
   "metadata": {},
   "outputs": [],
   "source": []
  }
 ],
 "metadata": {
  "kernelspec": {
   "display_name": "Python 3",
   "language": "python",
   "name": "python3"
  },
  "language_info": {
   "codemirror_mode": {
    "name": "ipython",
    "version": 3
   },
   "file_extension": ".py",
   "mimetype": "text/x-python",
   "name": "python",
   "nbconvert_exporter": "python",
   "pygments_lexer": "ipython3",
   "version": "3.7.3"
  }
 },
 "nbformat": 4,
 "nbformat_minor": 4
}
