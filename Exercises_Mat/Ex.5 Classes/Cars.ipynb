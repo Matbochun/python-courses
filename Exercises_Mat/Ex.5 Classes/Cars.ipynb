{
 "cells": [
  {
   "cell_type": "code",
   "execution_count": 17,
   "metadata": {},
   "outputs": [],
   "source": [
    "import numpy as np\n",
    "import pandas as pd"
   ]
  },
  {
   "cell_type": "code",
   "execution_count": 29,
   "metadata": {},
   "outputs": [],
   "source": [
    "class Cars():\n",
    "    def __init__(self, manufacturer, model, year, engine, hp, petrol_type, mileage, price):\n",
    "        self.manufacturer = manufacturer\n",
    "        self.model = model\n",
    "        self.year = year\n",
    "        self.engine = engine\n",
    "        self.hp = hp\n",
    "        self.petrol_type = petrol_type\n",
    "        self.mileage = mileage\n",
    "        self.price = price\n",
    "        \n",
    "    def Carinfo(self):\n",
    "        print(\"Car manufacturer:\", self.manufacturer)\n",
    "        print(\"Car model:\", self.model)\n",
    "        print(\"Engine:\", self.engine)\n",
    "        print(\"Horse power:\", self.hp)\n",
    "        print(\"Price(2019):\", self.price,\"\\n\")\n",
    "        "
   ]
  },
  {
   "cell_type": "code",
   "execution_count": 30,
   "metadata": {},
   "outputs": [
    {
     "name": "stdout",
     "output_type": "stream",
     "text": [
      "<__main__.Cars object at 0x000001BA0402E6D8>\n"
     ]
    },
    {
     "data": {
      "text/plain": [
       "190000"
      ]
     },
     "execution_count": 30,
     "metadata": {},
     "output_type": "execute_result"
    }
   ],
   "source": [
    "range_rover = Cars(\"land_rover\", \"range_rover\", 2007, 4.2, 390, \"gasoline+lpg\", 190000, 49990)\n",
    "audi_A4 = Cars(\"audi\", \"A4\", 2011, 2.0, 211, \"gasoline\", 175000, 55000)\n",
    "porshe_cayenne = Cars(\"porshe\", \"cayenne\", 2008, 4.8, 405, \"gasoline+lpg\", 92500, 55000)\n",
    "\n",
    "print(range_rover)\n",
    "range_rover.mileage"
   ]
  },
  {
   "cell_type": "code",
   "execution_count": 31,
   "metadata": {},
   "outputs": [
    {
     "name": "stdout",
     "output_type": "stream",
     "text": [
      "335.3333333333333\n"
     ]
    }
   ],
   "source": [
    "all_cars = [range_rover, audi_A4, porshe_cayenne]\n",
    "\n",
    "total = 0\n",
    "for car in all_cars:\n",
    "    total += car.hp\n",
    "print(total / len(all_cars))"
   ]
  },
  {
   "cell_type": "code",
   "execution_count": 32,
   "metadata": {},
   "outputs": [],
   "source": [
    "def carinfo(self):\n",
    "        print(\"Car manufacturer:\", self.manufacturer)\n",
    "        print(\"Car model:\", self.model,\"\\n\")"
   ]
  },
  {
   "cell_type": "code",
   "execution_count": 34,
   "metadata": {},
   "outputs": [
    {
     "name": "stdout",
     "output_type": "stream",
     "text": [
      "Car manufacturer: audi\n",
      "Car model: A4\n",
      "Engine: 2.0\n",
      "Horse power: 211\n",
      "Price(2019): 55000 \n",
      "\n"
     ]
    }
   ],
   "source": [
    "audi_A4.Carinfo()"
   ]
  },
  {
   "cell_type": "code",
   "execution_count": null,
   "metadata": {},
   "outputs": [],
   "source": []
  }
 ],
 "metadata": {
  "kernelspec": {
   "display_name": "Python 3",
   "language": "python",
   "name": "python3"
  },
  "language_info": {
   "codemirror_mode": {
    "name": "ipython",
    "version": 3
   },
   "file_extension": ".py",
   "mimetype": "text/x-python",
   "name": "python",
   "nbconvert_exporter": "python",
   "pygments_lexer": "ipython3",
   "version": "3.7.3"
  }
 },
 "nbformat": 4,
 "nbformat_minor": 4
}
