{
 "cells": [
  {
   "cell_type": "code",
   "execution_count": 1,
   "metadata": {},
   "outputs": [
    {
     "name": "stdout",
     "output_type": "stream",
     "text": [
      "       Słowa  ByeBye  Liczby  Random Pojemności\n",
      "0      Karma    7403  805805     NaN     600 ml\n",
      "1      Budda    7403  805806     NaN    1000 ml\n",
      "2    Rogalik     343  477747     NaN        NaN\n",
      "3    PyCharm    3910  902872     NaN        NaN\n",
      "4  Maszynowa    3895  806648     NaN      55 cm\n"
     ]
    }
   ],
   "source": [
    "import pandas as pd\n",
    "import numpy as np\n",
    "\n",
    "# 1.Dodaj nazwy kolumn [Słowa / ByeBye / Liczby / Random / Pojemności]\n",
    "df = pd.read_csv('pierwsza_csvka.csv', sep=';', names=['Słowa', 'ByeBye', 'Liczby', 'Random', 'Pojemności'])\n",
    "print(df.head())"
   ]
  },
  {
   "cell_type": "code",
   "execution_count": 2,
   "metadata": {},
   "outputs": [
    {
     "name": "stdout",
     "output_type": "stream",
     "text": [
      "       Słowa  Liczby  Random Pojemności\n",
      "0      Karma  805805     NaN     600 ml\n",
      "1      Budda  805806     NaN    1000 ml\n",
      "2    Rogalik  477747     NaN        NaN\n",
      "3    PyCharm  902872     NaN        NaN\n",
      "4  Maszynowa  806648     NaN      55 cm\n"
     ]
    }
   ],
   "source": [
    "# 2.Usuń drugą kolumnę(ByeBye)\n",
    "df = df.drop(columns='ByeBye')\n",
    "print(df.head())"
   ]
  },
  {
   "cell_type": "code",
   "execution_count": 3,
   "metadata": {},
   "outputs": [
    {
     "name": "stdout",
     "output_type": "stream",
     "text": [
      "       Słowa  Liczby  Random Pojemności\n",
      "0      Karma  805805      95     600 ml\n",
      "1      Budda  805806      84    1000 ml\n",
      "2    Rogalik  477747      62        NaN\n",
      "3    PyCharm  902872       4        NaN\n",
      "4  Maszynowa  806648      95      55 cm\n"
     ]
    }
   ],
   "source": [
    "# 3. Dla kolumny “Random” wpisz we wszystkie wiersze randomowe liczby \n",
    "# (np. Używając wbudowanej w pythona metody random)\n",
    "import numpy as np\n",
    "df['Random'] = np.random.randint(0,100,size=(len(df),1))\n",
    "print(df.head())\n"
   ]
  },
  {
   "cell_type": "code",
   "execution_count": 4,
   "metadata": {},
   "outputs": [
    {
     "name": "stdout",
     "output_type": "stream",
     "text": [
      "         Słowa  Liczby  Random Pojemności\n",
      "l.p                                      \n",
      "1        Karma  805805      95     600 ml\n",
      "2        Budda  805806      84    1000 ml\n",
      "3      Rogalik  477747      62        NaN\n",
      "4      PyCharm  902872       4        NaN\n",
      "5    Maszynowa  806648      95      55 cm\n"
     ]
    }
   ],
   "source": [
    "# 4. Dodaj kolumnę `l.p.`, która będzie pierwszą kolumną i będzie wskazywała indeksy poszczególnych wierszy\n",
    "df['l.p'] = range(1, len(df) + 1)\n",
    "df = df.set_index('l.p')\n",
    "print(df.head())\n",
    "\n",
    "#? Czy mogę połączyć dodawanie i ustawianie kolumny jako indeks w jednym kroku?\n",
    "#? Czemu l.p jest niżej niż nazwy pozostałych kolumn?"
   ]
  },
  {
   "cell_type": "code",
   "execution_count": 8,
   "metadata": {},
   "outputs": [
    {
     "name": "stdout",
     "output_type": "stream",
     "text": [
      "           Słowa  Liczby  Random Pojemności\n",
      "l.p                                        \n",
      "1          Karma  805805      95     600 ml\n",
      "2          Budda  805806      84    1000 ml\n",
      "3        Rogalik  477747      62        NaN\n",
      "4        PyCharm  902872       4        NaN\n",
      "5      Maszynowa  806648      95      55 cm\n",
      "6       Bartołty  899728      93      50 cm\n",
      "7         Korale  899729      77      60 cm\n",
      "8      Moleskine  899730      89      70 cm\n",
      "9         Maczek  899725      38      50 cm\n",
      "10    Czisburger  899726      42      60 cm\n",
      "11         Mango  899727      31      70 cm\n",
      "12         Vegan  917925      23      52 cm\n",
      "13   Hipsteriada  917926      50      59 cm\n",
      "14     Parasolki  917927      46      66 cm\n",
      "15       Mateusz  964959      97      50 cm\n",
      "16        Bartek  964960      47      60 cm\n",
      "17      Kapelusz  964961       9      70 cm\n",
      "18        Dharma  806558      18      45 cm\n",
      "20        Sangha  477743      87        NaN\n"
     ]
    }
   ],
   "source": [
    "# 5. Usuń wiersz 'Termos'\n",
    "# df = df.drop(df.index[20]) # usuwanie po indexie wiersza\n",
    "# df = df[df.Słowa != \"Lama\"] # usuwanie wierszy zawierających słowo w kolumnie\n",
    "print(df)\n",
    "#? Udało mi się usunąć ten wiersz po indeksie, ale używając nazwy 'Termos'nie mogę. Jakbyś to zrobiła po nazwie?"
   ]
  },
  {
   "cell_type": "code",
   "execution_count": null,
   "metadata": {},
   "outputs": [],
   "source": [
    "# 6. Zapisz to jako osobny plik `csv` pod nazwą np. `fun_with_flags`\n",
    "df.to_csv('fun_with_flags')"
   ]
  },
  {
   "cell_type": "code",
   "execution_count": null,
   "metadata": {},
   "outputs": [],
   "source": []
  },
  {
   "cell_type": "code",
   "execution_count": null,
   "metadata": {},
   "outputs": [],
   "source": []
  },
  {
   "cell_type": "code",
   "execution_count": null,
   "metadata": {},
   "outputs": [],
   "source": []
  }
 ],
 "metadata": {
  "kernelspec": {
   "display_name": "Python 3",
   "language": "python",
   "name": "python3"
  },
  "language_info": {
   "codemirror_mode": {
    "name": "ipython",
    "version": 3
   },
   "file_extension": ".py",
   "mimetype": "text/x-python",
   "name": "python",
   "nbconvert_exporter": "python",
   "pygments_lexer": "ipython3",
   "version": "3.7.3"
  }
 },
 "nbformat": 4,
 "nbformat_minor": 4
}
