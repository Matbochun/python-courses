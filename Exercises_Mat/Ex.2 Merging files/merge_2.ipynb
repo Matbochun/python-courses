{
 "cells": [
  {
   "cell_type": "raw",
   "metadata": {},
   "source": [
    "1) Stwórz plik file_3, który będzie łączył file 2 i file 1 tak, by file 1 był u góry, a file 2 na dole)\n",
    "2) Usuń kolumnę z liczbami\n",
    "3) Wczyść tekst ze średników, myślników, okrągłych nawiasów"
   ]
  },
  {
   "cell_type": "code",
   "execution_count": 12,
   "metadata": {},
   "outputs": [
    {
     "name": "stdout",
     "output_type": "stream",
     "text": [
      "                                                Text  Numbers\n",
      "0       Litwo, Ojczyzno moja! ty jesteś jak zdrowie;        1\n",
      "1         Ile cię trzeba cenić, ten tylko się dowie,        2\n",
      "2  Kto cię stracił. Dziś piękność twą w całej ozd...        2\n",
      "3              Widzę i opisuję, bo tęsknię po tobie.        1\n",
      "4        Panno święta, co Jasnej bronisz Częstochowy        4\n"
     ]
    }
   ],
   "source": [
    "import pandas as pd\n",
    "df1 = pd.read_csv('file_1.csv', sep=';', names = [\"Text\", \"Numbers\"])\n",
    "print(df1.head())\n"
   ]
  },
  {
   "cell_type": "code",
   "execution_count": 3,
   "metadata": {},
   "outputs": [
    {
     "name": "stdout",
     "output_type": "stream",
     "text": [
      "                                                Text  Numbers\n",
      "0         Wyzłacanych pszenicą, posrebrzanych żytem;        5\n",
      "1  Gdzie bursztynowy świerzop, gryka jak śnieg bi...        7\n",
      "2       Gdzie panieńskim rumieńcem dzięcielina pała,        4\n",
      "3         A wszystko przepasane jakby wstęgą, miedzą        2\n",
      "4      Zieloną, na niej zrzadka ciche grusze siedzą.        1\n"
     ]
    }
   ],
   "source": [
    "df2 = pd.read_csv('file_2.csv', sep=';', names = [\"Text\", \"Numbers\"])\n",
    "print(df2.head())"
   ]
  },
  {
   "cell_type": "code",
   "execution_count": 4,
   "metadata": {},
   "outputs": [
    {
     "name": "stdout",
     "output_type": "stream",
     "text": [
      "                                                Text\n",
      "0       Litwo, Ojczyzno moja! ty jesteś jak zdrowie;\n",
      "1         Ile cię trzeba cenić, ten tylko się dowie,\n",
      "2  Kto cię stracił. Dziś piękność twą w całej ozd...\n",
      "3              Widzę i opisuję, bo tęsknię po tobie.\n",
      "4        Panno święta, co Jasnej bronisz Częstochowy\n"
     ]
    }
   ],
   "source": [
    "# Deleting column with numbers\n",
    "df1 = df1.drop(df1.columns[1], axis=1)\n",
    "print(df1.head())"
   ]
  },
  {
   "cell_type": "code",
   "execution_count": 5,
   "metadata": {},
   "outputs": [
    {
     "name": "stdout",
     "output_type": "stream",
     "text": [
      "                                                Text\n",
      "0         Wyzłacanych pszenicą, posrebrzanych żytem;\n",
      "1  Gdzie bursztynowy świerzop, gryka jak śnieg bi...\n",
      "2       Gdzie panieńskim rumieńcem dzięcielina pała,\n",
      "3         A wszystko przepasane jakby wstęgą, miedzą\n",
      "4      Zieloną, na niej zrzadka ciche grusze siedzą.\n"
     ]
    }
   ],
   "source": [
    "# Deleting column with numbers\n",
    "df2 = df2.drop(df2.columns[1], axis=1)\n",
    "print(df2.head())"
   ]
  },
  {
   "cell_type": "code",
   "execution_count": 9,
   "metadata": {},
   "outputs": [
    {
     "name": "stdout",
     "output_type": "stream",
     "text": [
      "                                                Text  \\\n",
      "0       Litwo, Ojczyzno moja! ty jesteś jak zdrowie;   \n",
      "1         Ile cię trzeba cenić, ten tylko się dowie,   \n",
      "2  Kto cię stracił. Dziś piękność twą w całej ozd...   \n",
      "3              Widzę i opisuję, bo tęsknię po tobie.   \n",
      "4        Panno święta, co Jasnej bronisz Częstochowy   \n",
      "\n",
      "                                                Text  \n",
      "0         Wyzłacanych pszenicą, posrebrzanych żytem;  \n",
      "1  Gdzie bursztynowy świerzop, gryka jak śnieg bi...  \n",
      "2       Gdzie panieńskim rumieńcem dzięcielina pała,  \n",
      "3         A wszystko przepasane jakby wstęgą, miedzą  \n",
      "4      Zieloną, na niej zrzadka ciche grusze siedzą.  \n"
     ]
    }
   ],
   "source": [
    "# Merging files 1 and 2 into file 3\n",
    "\n",
    "file3 = pd.concat([df1, df2], axis = 1, sort=True)\n",
    "print(file3.head(5))"
   ]
  },
  {
   "cell_type": "code",
   "execution_count": null,
   "metadata": {},
   "outputs": [],
   "source": []
  }
 ],
 "metadata": {
  "kernelspec": {
   "display_name": "Python 3",
   "language": "python",
   "name": "python3"
  },
  "language_info": {
   "codemirror_mode": {
    "name": "ipython",
    "version": 3
   },
   "file_extension": ".py",
   "mimetype": "text/x-python",
   "name": "python",
   "nbconvert_exporter": "python",
   "pygments_lexer": "ipython3",
   "version": "3.7.3"
  }
 },
 "nbformat": 4,
 "nbformat_minor": 4
}
