{
 "cells": [
  {
   "cell_type": "code",
   "execution_count": 6,
   "metadata": {},
   "outputs": [],
   "source": [
    "with open(\"file_1.csv\", \"r\") as file:\n",
    "    cyk = file.readlines()"
   ]
  },
  {
   "cell_type": "code",
   "execution_count": 7,
   "metadata": {},
   "outputs": [
    {
     "data": {
      "text/plain": [
       "'\"Litwo, Ojczyzno moja! ty jesteĹ› jak zdrowie;\";1\\n'"
      ]
     },
     "execution_count": 7,
     "metadata": {},
     "output_type": "execute_result"
    }
   ],
   "source": [
    "cyk[0]"
   ]
  },
  {
   "cell_type": "code",
   "execution_count": 8,
   "metadata": {},
   "outputs": [],
   "source": [
    "with open(\"file_2.csv\", \"r\") as file:\n",
    "    cyk2 = file.readlines()"
   ]
  },
  {
   "cell_type": "code",
   "execution_count": 9,
   "metadata": {},
   "outputs": [],
   "source": [
    "calosc = cyk + cyk2"
   ]
  },
  {
   "cell_type": "code",
   "execution_count": 10,
   "metadata": {},
   "outputs": [
    {
     "name": "stdout",
     "output_type": "stream",
     "text": [
      "Litwo, Ojczyzno moja! ty jesteĹ› jak zdrowie\n",
      "Ile ciÄ™ trzeba ceniÄ‡, ten tylko siÄ™ dowie,\n",
      "Kto ciÄ™ straciĹ‚. DziĹ› piÄ™knoĹ›Ä‡ twÄ… w caĹ‚ej ozdobie\n",
      "WidzÄ™ i opisujÄ™, bo tÄ™skniÄ™ po tobie.\n",
      "Panno Ĺ›wiÄ™ta, co Jasnej bronisz CzÄ™stochowy\n",
      "I w Ostrej Ĺ›wiecisz Bramie! Ty, co grĂłd zamkowy\n",
      "NowogrĂłdzki ochraniasz z jego wiernym ludem!\n",
      "Jak mnie dziecko do zdrowia powrĂłciĹ‚aĹ› cudem\n",
      "â€” Gdy od pĹ‚aczÄ…cej matki, pod TwojÄ… opiekÄ™\n",
      "Ofiarowany martwÄ… podniosĹ‚em powiekÄ™\n",
      "I zaraz mogĹ‚em pieszo, do Twych Ĺ›wiÄ…tyĹ„ progu\n",
      "IĹ›Ä‡ za wrĂłcone ĹĽycie podziÄ™kowaÄ‡ Bogu â€”\n",
      "Tak nas powrĂłcisz cudem na Ojczyzny Ĺ‚ono!...\n",
      "Tymczasem, przenoĹ› mojÄ… duszÄ™ utÄ™sknionÄ…\n",
      "Do tych pagĂłrkĂłw leĹ›nych, do tych Ĺ‚Ä…k zielonych,\n",
      "Szeroko nad bĹ‚Ä™kitnym Niemnem rozciÄ…gnionych\n",
      "Do tych pĂłl malowanych zboĹĽem rozmaitem\n",
      "WyzĹ‚acanych pszenicÄ…, posrebrzanych ĹĽytem\n",
      "Gdzie bursztynowy Ĺ›wierzop, gryka jak Ĺ›nieg biaĹ‚a,\n",
      "Gdzie panieĹ„skim rumieĹ„cem dziÄ™cielina paĹ‚a,\n",
      "A wszystko przepasane jakby wstÄ™gÄ…, miedzÄ…\n",
      "ZielonÄ…, na niej zrzadka ciche grusze siedzÄ…\n"
     ]
    }
   ],
   "source": [
    "for line in calosc:\n",
    "    \n",
    "    done = line.replace(\";\", \"\")[:-2].replace('\"', \"\").replace(\"(\", \"\").replace(\")\", \"\")\n",
    "    print(done)"
   ]
  },
  {
   "cell_type": "code",
   "execution_count": null,
   "metadata": {},
   "outputs": [],
   "source": []
  }
 ],
 "metadata": {
  "kernelspec": {
   "display_name": "Python 3",
   "language": "python",
   "name": "python3"
  },
  "language_info": {
   "codemirror_mode": {
    "name": "ipython",
    "version": 3
   },
   "file_extension": ".py",
   "mimetype": "text/x-python",
   "name": "python",
   "nbconvert_exporter": "python",
   "pygments_lexer": "ipython3",
   "version": "3.7.3"
  }
 },
 "nbformat": 4,
 "nbformat_minor": 4
}
