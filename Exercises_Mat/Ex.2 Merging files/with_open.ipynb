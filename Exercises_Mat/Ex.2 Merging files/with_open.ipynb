{
 "cells": [
  {
   "cell_type": "code",
   "execution_count": 2,
   "metadata": {},
   "outputs": [],
   "source": [
    "with open(\"file_1.csv\", \"r\") as file:\n",
    "    cyk1 = file.readlines()"
   ]
  },
  {
   "cell_type": "code",
   "execution_count": 3,
   "metadata": {},
   "outputs": [
    {
     "data": {
      "text/plain": [
       "'\"Litwo, Ojczyzno moja! ty jesteĹ› jak zdrowie;\";1\\n'"
      ]
     },
     "execution_count": 3,
     "metadata": {},
     "output_type": "execute_result"
    }
   ],
   "source": [
    "cyk1[0]"
   ]
  },
  {
   "cell_type": "code",
   "execution_count": 4,
   "metadata": {},
   "outputs": [],
   "source": [
    "with open(\"file_2.csv\", \"r\") as file:\n",
    "    cyk2 = file.readlines()"
   ]
  },
  {
   "cell_type": "code",
   "execution_count": 5,
   "metadata": {},
   "outputs": [],
   "source": [
    "razem = cyk1 + cyk2"
   ]
  },
  {
   "cell_type": "code",
   "execution_count": 12,
   "metadata": {},
   "outputs": [
    {
     "name": "stdout",
     "output_type": "stream",
     "text": [
      "Litwo, Ojczyzno moja! ty jesteĹ› jak zdrowie\n",
      "Ile ciÄ™ trzeba ceniÄ‡, ten tylko siÄ™ dowie,\n",
      "Kto ciÄ™ straciĹ‚. DziĹ› piÄ™knoĹ›Ä‡ twÄ… w caĹ‚ej ozdobie\n",
      "WidzÄ™ i opisujÄ™, bo tÄ™skniÄ™ po tobie.\n",
      "Panno Ĺ›wiÄ™ta, co Jasnej bronisz CzÄ™stochowy\n",
      "I w Ostrej Ĺ›wiecisz Bramie! Ty, co grĂłd zamkowy\n",
      "NowogrĂłdzki ochraniasz z jego wiernym ludem!\n",
      "Jak mnie dziecko do zdrowia powrĂłciĹ‚aĹ› cudem\n",
      "â€” Gdy od pĹ‚aczÄ…cej matki, pod TwojÄ… opiekÄ™\n",
      "Ofiarowany martwÄ… podniosĹ‚em powiekÄ™\n",
      "I zaraz mogĹ‚em pieszo, do Twych Ĺ›wiÄ…tyĹ„ progu\n",
      "IĹ›Ä‡ za wrĂłcone ĹĽycie podziÄ™kowaÄ‡ Bogu â€”\n",
      "Tak nas powrĂłcisz cudem na Ojczyzny Ĺ‚ono!...\n",
      "Tymczasem, przenoĹ› mojÄ… duszÄ™ utÄ™sknionÄ…\n",
      "Do tych pagĂłrkĂłw leĹ›nych, do tych Ĺ‚Ä…k zielonych,\n",
      "Szeroko nad bĹ‚Ä™kitnym Niemnem rozciÄ…gnionych\n",
      "Do tych pĂłl malowanych zboĹĽem rozmaitem\n",
      "WyzĹ‚acanych pszenicÄ…, posrebrzanych ĹĽytem\n",
      "Gdzie bursztynowy Ĺ›wierzop, gryka jak Ĺ›nieg biaĹ‚a,\n",
      "Gdzie panieĹ„skim rumieĹ„cem dziÄ™cielina paĹ‚a,\n",
      "A wszystko przepasane jakby wstÄ™gÄ…, miedzÄ…\n",
      "ZielonÄ…, na niej zrzadka ciche grusze siedzÄ…\n"
     ]
    },
    {
     "ename": "SyntaxError",
     "evalue": "'return' outside function (<ipython-input-12-b9302b6b6e59>, line 5)",
     "output_type": "error",
     "traceback": [
      "\u001b[1;36m  File \u001b[1;32m\"<ipython-input-12-b9302b6b6e59>\"\u001b[1;36m, line \u001b[1;32m5\u001b[0m\n\u001b[1;33m    return done\u001b[0m\n\u001b[1;37m               ^\u001b[0m\n\u001b[1;31mSyntaxError\u001b[0m\u001b[1;31m:\u001b[0m 'return' outside function\n"
     ]
    }
   ],
   "source": [
    "for line in razem:\n",
    "    \n",
    "    done = line.replace(\";\", \"\")[:-2].replace('\"', \"\").replace(\"(\", \"\").replace(\")\", \"\")\n",
    "    print(done)"
   ]
  },
  {
   "cell_type": "raw",
   "metadata": {},
   "source": [
    "HOW TO SAVE THE TEXT ABOVE TO A FILE?"
   ]
  },
  {
   "cell_type": "code",
   "execution_count": 7,
   "metadata": {},
   "outputs": [],
   "source": [
    "file_3=open(\"file_3\",'w')\n",
    "file_3.write(done)\n",
    "file_3.close()"
   ]
  },
  {
   "cell_type": "raw",
   "metadata": {},
   "source": [
    "ABOVE SAVES ONLY THE LAST LINE TO THE FILE"
   ]
  },
  {
   "cell_type": "code",
   "execution_count": 11,
   "metadata": {},
   "outputs": [
    {
     "ename": "ValueError",
     "evalue": "DataFrame constructor not properly called!",
     "output_type": "error",
     "traceback": [
      "\u001b[1;31m---------------------------------------------------------------------------\u001b[0m",
      "\u001b[1;31mValueError\u001b[0m                                Traceback (most recent call last)",
      "\u001b[1;32m<ipython-input-11-a02bf2d8fb54>\u001b[0m in \u001b[0;36m<module>\u001b[1;34m\u001b[0m\n\u001b[0;32m      1\u001b[0m \u001b[1;32mimport\u001b[0m \u001b[0mpandas\u001b[0m \u001b[1;32mas\u001b[0m \u001b[0mpd\u001b[0m\u001b[1;33m\u001b[0m\u001b[1;33m\u001b[0m\u001b[0m\n\u001b[1;32m----> 2\u001b[1;33m \u001b[0mdata\u001b[0m \u001b[1;33m=\u001b[0m \u001b[0mpd\u001b[0m\u001b[1;33m.\u001b[0m\u001b[0mDataFrame\u001b[0m\u001b[1;33m(\u001b[0m\u001b[0mdone\u001b[0m\u001b[1;33m)\u001b[0m\u001b[1;33m\u001b[0m\u001b[1;33m\u001b[0m\u001b[0m\n\u001b[0m",
      "\u001b[1;32m~\\Anaconda3\\lib\\site-packages\\pandas\\core\\frame.py\u001b[0m in \u001b[0;36m__init__\u001b[1;34m(self, data, index, columns, dtype, copy)\u001b[0m\n\u001b[0;32m    466\u001b[0m                                    dtype=values.dtype, copy=False)\n\u001b[0;32m    467\u001b[0m             \u001b[1;32melse\u001b[0m\u001b[1;33m:\u001b[0m\u001b[1;33m\u001b[0m\u001b[1;33m\u001b[0m\u001b[0m\n\u001b[1;32m--> 468\u001b[1;33m                 \u001b[1;32mraise\u001b[0m \u001b[0mValueError\u001b[0m\u001b[1;33m(\u001b[0m\u001b[1;34m'DataFrame constructor not properly called!'\u001b[0m\u001b[1;33m)\u001b[0m\u001b[1;33m\u001b[0m\u001b[1;33m\u001b[0m\u001b[0m\n\u001b[0m\u001b[0;32m    469\u001b[0m \u001b[1;33m\u001b[0m\u001b[0m\n\u001b[0;32m    470\u001b[0m         \u001b[0mNDFrame\u001b[0m\u001b[1;33m.\u001b[0m\u001b[0m__init__\u001b[0m\u001b[1;33m(\u001b[0m\u001b[0mself\u001b[0m\u001b[1;33m,\u001b[0m \u001b[0mmgr\u001b[0m\u001b[1;33m,\u001b[0m \u001b[0mfastpath\u001b[0m\u001b[1;33m=\u001b[0m\u001b[1;32mTrue\u001b[0m\u001b[1;33m)\u001b[0m\u001b[1;33m\u001b[0m\u001b[1;33m\u001b[0m\u001b[0m\n",
      "\u001b[1;31mValueError\u001b[0m: DataFrame constructor not properly called!"
     ]
    }
   ],
   "source": [
    "import pandas as pd\n",
    "data = pd.DataFrame(done)"
   ]
  },
  {
   "cell_type": "code",
   "execution_count": null,
   "metadata": {},
   "outputs": [],
   "source": []
  }
 ],
 "metadata": {
  "kernelspec": {
   "display_name": "Python 3",
   "language": "python",
   "name": "python3"
  },
  "language_info": {
   "codemirror_mode": {
    "name": "ipython",
    "version": 3
   },
   "file_extension": ".py",
   "mimetype": "text/x-python",
   "name": "python",
   "nbconvert_exporter": "python",
   "pygments_lexer": "ipython3",
   "version": "3.7.3"
  }
 },
 "nbformat": 4,
 "nbformat_minor": 4
}
