{
 "cells": [
  {
   "cell_type": "code",
   "execution_count": 1,
   "metadata": {},
   "outputs": [],
   "source": [
    "import pandas as pd\n",
    "df = pd.concat(map(pd.read_csv, ['file_1.csv', 'file_2.csv']),sort=True, ignore_index=True)"
   ]
  },
  {
   "cell_type": "code",
   "execution_count": 2,
   "metadata": {},
   "outputs": [
    {
     "data": {
      "text/plain": [
       "Index(['Litwo, Ojczyzno moja! ty jesteś jak zdrowie;;1', 'Wyzłacanych pszenicą, posrebrzanych żytem;;5'], dtype='object')"
      ]
     },
     "execution_count": 2,
     "metadata": {},
     "output_type": "execute_result"
    }
   ],
   "source": [
    "df.columns"
   ]
  },
  {
   "cell_type": "code",
   "execution_count": 3,
   "metadata": {},
   "outputs": [
    {
     "data": {
      "text/plain": [
       "(20, 2)"
      ]
     },
     "execution_count": 3,
     "metadata": {},
     "output_type": "execute_result"
    }
   ],
   "source": [
    "df.shape"
   ]
  },
  {
   "cell_type": "code",
   "execution_count": 4,
   "metadata": {},
   "outputs": [
    {
     "data": {
      "text/html": [
       "<div>\n",
       "<style scoped>\n",
       "    .dataframe tbody tr th:only-of-type {\n",
       "        vertical-align: middle;\n",
       "    }\n",
       "\n",
       "    .dataframe tbody tr th {\n",
       "        vertical-align: top;\n",
       "    }\n",
       "\n",
       "    .dataframe thead th {\n",
       "        text-align: right;\n",
       "    }\n",
       "</style>\n",
       "<table border=\"1\" class=\"dataframe\">\n",
       "  <thead>\n",
       "    <tr style=\"text-align: right;\">\n",
       "      <th></th>\n",
       "      <th>Litwo, Ojczyzno moja! ty jesteś jak zdrowie;;1</th>\n",
       "      <th>Wyzłacanych pszenicą, posrebrzanych żytem;;5</th>\n",
       "    </tr>\n",
       "  </thead>\n",
       "  <tbody>\n",
       "    <tr>\n",
       "      <th>count</th>\n",
       "      <td>2</td>\n",
       "      <td>1</td>\n",
       "    </tr>\n",
       "    <tr>\n",
       "      <th>unique</th>\n",
       "      <td>2</td>\n",
       "      <td>1</td>\n",
       "    </tr>\n",
       "    <tr>\n",
       "      <th>top</th>\n",
       "      <td>;2</td>\n",
       "      <td>;7</td>\n",
       "    </tr>\n",
       "    <tr>\n",
       "      <th>freq</th>\n",
       "      <td>1</td>\n",
       "      <td>1</td>\n",
       "    </tr>\n",
       "  </tbody>\n",
       "</table>\n",
       "</div>"
      ],
      "text/plain": [
       "       Litwo, Ojczyzno moja! ty jesteś jak zdrowie;;1  \\\n",
       "count                                               2   \n",
       "unique                                              2   \n",
       "top                                                ;2   \n",
       "freq                                                1   \n",
       "\n",
       "       Wyzłacanych pszenicą, posrebrzanych żytem;;5  \n",
       "count                                             1  \n",
       "unique                                            1  \n",
       "top                                              ;7  \n",
       "freq                                              1  "
      ]
     },
     "execution_count": 4,
     "metadata": {},
     "output_type": "execute_result"
    }
   ],
   "source": [
    "df.describe()"
   ]
  },
  {
   "cell_type": "code",
   "execution_count": 5,
   "metadata": {},
   "outputs": [
    {
     "data": {
      "text/plain": [
       "Litwo, Ojczyzno moja! ty jesteś jak zdrowie;;1    NaN\n",
       "Wyzłacanych pszenicą, posrebrzanych żytem;;5      NaN\n",
       "Name: 2, dtype: object"
      ]
     },
     "execution_count": 5,
     "metadata": {},
     "output_type": "execute_result"
    }
   ],
   "source": [
    "df.iloc[2]"
   ]
  },
  {
   "cell_type": "code",
   "execution_count": 6,
   "metadata": {},
   "outputs": [
    {
     "name": "stdout",
     "output_type": "stream",
     "text": [
      "   Litwo, Ojczyzno moja! ty jesteś jak zdrowie;;1  \\\n",
      "0                                              ;2   \n",
      "1                                             NaN   \n",
      "2                                             NaN   \n",
      "3                                             NaN   \n",
      "4                                             NaN   \n",
      "5                                             NaN   \n",
      "6                                             NaN   \n",
      "7                                             NaN   \n",
      "8                                             NaN   \n",
      "9                                             NaN   \n",
      "10                                            NaN   \n",
      "11                                            NaN   \n",
      "12                                            NaN   \n",
      "13                                             ;4   \n",
      "14                                            NaN   \n",
      "15                                            NaN   \n",
      "16                                            NaN   \n",
      "17                                            NaN   \n",
      "18                                            NaN   \n",
      "19                                            NaN   \n",
      "\n",
      "   Wyzłacanych pszenicą, posrebrzanych żytem;;5  \n",
      "0                                           NaN  \n",
      "1                                           NaN  \n",
      "2                                           NaN  \n",
      "3                                           NaN  \n",
      "4                                           NaN  \n",
      "5                                           NaN  \n",
      "6                                           NaN  \n",
      "7                                           NaN  \n",
      "8                                           NaN  \n",
      "9                                           NaN  \n",
      "10                                          NaN  \n",
      "11                                          NaN  \n",
      "12                                          NaN  \n",
      "13                                          NaN  \n",
      "14                                          NaN  \n",
      "15                                          NaN  \n",
      "16                                           ;7  \n",
      "17                                          NaN  \n",
      "18                                          NaN  \n",
      "19                                          NaN  \n"
     ]
    }
   ],
   "source": [
    "print(df)"
   ]
  },
  {
   "cell_type": "code",
   "execution_count": null,
   "metadata": {},
   "outputs": [],
   "source": []
  }
 ],
 "metadata": {
  "kernelspec": {
   "display_name": "Python 3",
   "language": "python",
   "name": "python3"
  },
  "language_info": {
   "codemirror_mode": {
    "name": "ipython",
    "version": 3
   },
   "file_extension": ".py",
   "mimetype": "text/x-python",
   "name": "python",
   "nbconvert_exporter": "python",
   "pygments_lexer": "ipython3",
   "version": "3.7.3"
  }
 },
 "nbformat": 4,
 "nbformat_minor": 4
}
