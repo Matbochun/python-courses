{
 "cells": [
  {
   "cell_type": "raw",
   "metadata": {},
   "source": [
    "Zadanie 1:\n",
    "\n",
    "1) Stwórz plik file_3, który będzie łączył file 2 i file 1 tak, by file 1 był u góry, a file 2 na dole)\n",
    "2) usuń kolumnę z liczbami\n",
    "3) wyczyść tekst ze średników, myślników, okrągłych nawiasów"
   ]
  },
  {
   "cell_type": "code",
   "execution_count": 2,
   "metadata": {},
   "outputs": [],
   "source": [
    "import pandas as pd"
   ]
  },
  {
   "cell_type": "code",
   "execution_count": 7,
   "metadata": {},
   "outputs": [
    {
     "ename": "IndexError",
     "evalue": "index 1 is out of bounds for axis 0 with size 1",
     "output_type": "error",
     "traceback": [
      "\u001b[1;31m---------------------------------------------------------------------------\u001b[0m",
      "\u001b[1;31mIndexError\u001b[0m                                Traceback (most recent call last)",
      "\u001b[1;32m<ipython-input-7-0b01a8492c03>\u001b[0m in \u001b[0;36m<module>\u001b[1;34m\u001b[0m\n\u001b[0;32m      1\u001b[0m \u001b[0mdf1\u001b[0m \u001b[1;33m=\u001b[0m \u001b[0mpd\u001b[0m\u001b[1;33m.\u001b[0m\u001b[0mread_csv\u001b[0m\u001b[1;33m(\u001b[0m\u001b[1;34m'file_1.csv'\u001b[0m\u001b[1;33m,\u001b[0m \u001b[0msep\u001b[0m\u001b[1;33m=\u001b[0m\u001b[1;34m';'\u001b[0m\u001b[1;33m,\u001b[0m \u001b[0mnames\u001b[0m \u001b[1;33m=\u001b[0m \u001b[1;33m[\u001b[0m\u001b[1;34m\"Text\"\u001b[0m\u001b[1;33m,\u001b[0m \u001b[1;34m\"Numbers\"\u001b[0m\u001b[1;33m]\u001b[0m\u001b[1;33m,\u001b[0m \u001b[0mindex_col\u001b[0m\u001b[1;33m=\u001b[0m\u001b[1;36m0\u001b[0m\u001b[1;33m)\u001b[0m\u001b[1;33m\u001b[0m\u001b[1;33m\u001b[0m\u001b[0m\n\u001b[0;32m      2\u001b[0m \u001b[0mdf1\u001b[0m\u001b[1;33m.\u001b[0m\u001b[0mcolumns\u001b[0m\u001b[1;33m\u001b[0m\u001b[1;33m\u001b[0m\u001b[0m\n\u001b[1;32m----> 3\u001b[1;33m \u001b[0mdf1\u001b[0m \u001b[1;33m=\u001b[0m \u001b[0mdf1\u001b[0m\u001b[1;33m.\u001b[0m\u001b[0mdrop\u001b[0m\u001b[1;33m(\u001b[0m\u001b[0mdf1\u001b[0m\u001b[1;33m.\u001b[0m\u001b[0mcolumns\u001b[0m\u001b[1;33m[\u001b[0m\u001b[1;36m1\u001b[0m\u001b[1;33m]\u001b[0m\u001b[1;33m,\u001b[0m \u001b[0maxis\u001b[0m\u001b[1;33m=\u001b[0m\u001b[1;36m1\u001b[0m\u001b[1;33m)\u001b[0m\u001b[1;33m\u001b[0m\u001b[1;33m\u001b[0m\u001b[0m\n\u001b[0m\u001b[0;32m      4\u001b[0m \u001b[0mprint\u001b[0m\u001b[1;33m(\u001b[0m\u001b[0mdf1\u001b[0m\u001b[1;33m)\u001b[0m\u001b[1;33m\u001b[0m\u001b[1;33m\u001b[0m\u001b[0m\n\u001b[0;32m      5\u001b[0m \u001b[1;33m\u001b[0m\u001b[0m\n",
      "\u001b[1;32m~\\Anaconda3\\lib\\site-packages\\pandas\\core\\indexes\\base.py\u001b[0m in \u001b[0;36m__getitem__\u001b[1;34m(self, key)\u001b[0m\n\u001b[0;32m   3956\u001b[0m         \u001b[1;32mif\u001b[0m \u001b[0mis_scalar\u001b[0m\u001b[1;33m(\u001b[0m\u001b[0mkey\u001b[0m\u001b[1;33m)\u001b[0m\u001b[1;33m:\u001b[0m\u001b[1;33m\u001b[0m\u001b[1;33m\u001b[0m\u001b[0m\n\u001b[0;32m   3957\u001b[0m             \u001b[0mkey\u001b[0m \u001b[1;33m=\u001b[0m \u001b[0mcom\u001b[0m\u001b[1;33m.\u001b[0m\u001b[0mcast_scalar_indexer\u001b[0m\u001b[1;33m(\u001b[0m\u001b[0mkey\u001b[0m\u001b[1;33m)\u001b[0m\u001b[1;33m\u001b[0m\u001b[1;33m\u001b[0m\u001b[0m\n\u001b[1;32m-> 3958\u001b[1;33m             \u001b[1;32mreturn\u001b[0m \u001b[0mgetitem\u001b[0m\u001b[1;33m(\u001b[0m\u001b[0mkey\u001b[0m\u001b[1;33m)\u001b[0m\u001b[1;33m\u001b[0m\u001b[1;33m\u001b[0m\u001b[0m\n\u001b[0m\u001b[0;32m   3959\u001b[0m \u001b[1;33m\u001b[0m\u001b[0m\n\u001b[0;32m   3960\u001b[0m         \u001b[1;32mif\u001b[0m \u001b[0misinstance\u001b[0m\u001b[1;33m(\u001b[0m\u001b[0mkey\u001b[0m\u001b[1;33m,\u001b[0m \u001b[0mslice\u001b[0m\u001b[1;33m)\u001b[0m\u001b[1;33m:\u001b[0m\u001b[1;33m\u001b[0m\u001b[1;33m\u001b[0m\u001b[0m\n",
      "\u001b[1;31mIndexError\u001b[0m: index 1 is out of bounds for axis 0 with size 1"
     ]
    }
   ],
   "source": [
    "df1 = pd.read_csv('file_1.csv', sep=';', names = [\"Text\", \"Numbers\"], index_col=0)\n",
    "df1.columns\n",
    "df1 = df1.drop(df1.columns[1], axis=1)\n",
    "print(df1)\n",
    "\n"
   ]
  },
  {
   "cell_type": "code",
   "execution_count": 4,
   "metadata": {},
   "outputs": [
    {
     "name": "stdout",
     "output_type": "stream",
     "text": [
      "          Wyzłacanych pszenicą, posrebrzanych żytem;\n",
      "0  Gdzie bursztynowy świerzop, gryka jak śnieg bi...\n",
      "1       Gdzie panieńskim rumieńcem dzięcielina pała,\n",
      "2         A wszystko przepasane jakby wstęgą, miedzą\n",
      "3      Zieloną, na niej zrzadka ciche grusze siedzą.\n"
     ]
    }
   ],
   "source": [
    "df2 = pd.read_csv('file_2.csv', sep =';', index_col=False)\n",
    "df2.columns\n",
    "df2=df2.drop(df2.columns[1], axis=1)\n",
    "print(df2)\n"
   ]
  },
  {
   "cell_type": "code",
   "execution_count": 5,
   "metadata": {},
   "outputs": [
    {
     "data": {
      "text/plain": [
       "Index(['Text'], dtype='object')"
      ]
     },
     "execution_count": 5,
     "metadata": {},
     "output_type": "execute_result"
    }
   ],
   "source": [
    "df1.columns"
   ]
  },
  {
   "cell_type": "code",
   "execution_count": 6,
   "metadata": {},
   "outputs": [
    {
     "name": "stdout",
     "output_type": "stream",
     "text": [
      "                                                 Text  \\\n",
      "0        Litwo, Ojczyzno moja! ty jesteś jak zdrowie;   \n",
      "1          Ile cię trzeba cenić, ten tylko się dowie,   \n",
      "2   Kto cię stracił. Dziś piękność twą w całej ozd...   \n",
      "3               Widzę i opisuję, bo tęsknię po tobie.   \n",
      "4         Panno święta, co Jasnej bronisz Częstochowy   \n",
      "5     I w Ostrej świecisz Bramie! Ty, co gród zamkowy   \n",
      "6        Nowogródzki ochraniasz z jego wiernym ludem!   \n",
      "7        Jak mnie dziecko do zdrowia powróciłaś cudem   \n",
      "8         (— Gdy od płaczącej matki, pod Twoją opiekę   \n",
      "9               Ofiarowany martwą podniosłem powiekę;   \n",
      "10      I zaraz mogłem pieszo, do Twych świątyń progu   \n",
      "11           Iść za wrócone życie podziękować Bogu —)   \n",
      "12       Tak nas powrócisz cudem na Ojczyzny łono!...   \n",
      "13           Tymczasem, przenoś moją duszę utęsknioną   \n",
      "14   Do tych pagórków leśnych, do tych łąk zielonych,   \n",
      "15      Szeroko nad błękitnym Niemnem rozciągnionych;   \n",
      "16           Do tych pól malowanych zbożem rozmaitem,   \n",
      "\n",
      "           Wyzłacanych pszenicą, posrebrzanych żytem;  \n",
      "0   Gdzie bursztynowy świerzop, gryka jak śnieg bi...  \n",
      "1        Gdzie panieńskim rumieńcem dzięcielina pała,  \n",
      "2          A wszystko przepasane jakby wstęgą, miedzą  \n",
      "3       Zieloną, na niej zrzadka ciche grusze siedzą.  \n",
      "4                                                 NaN  \n",
      "5                                                 NaN  \n",
      "6                                                 NaN  \n",
      "7                                                 NaN  \n",
      "8                                                 NaN  \n",
      "9                                                 NaN  \n",
      "10                                                NaN  \n",
      "11                                                NaN  \n",
      "12                                                NaN  \n",
      "13                                                NaN  \n",
      "14                                                NaN  \n",
      "15                                                NaN  \n",
      "16                                                NaN  \n"
     ]
    }
   ],
   "source": [
    "file3 = pd.concat([df1, df2], axis = 1, ignore_index=None)\n",
    "print(file3)"
   ]
  },
  {
   "cell_type": "code",
   "execution_count": 16,
   "metadata": {},
   "outputs": [
    {
     "name": "stdout",
     "output_type": "stream",
     "text": [
      "                                                    0  \\\n",
      "0        Litwo, Ojczyzno moja! ty jesteś jak zdrowie;   \n",
      "1          Ile cię trzeba cenić, ten tylko się dowie,   \n",
      "2   Kto cię stracił. Dziś piękność twą w całej ozd...   \n",
      "3               Widzę i opisuję, bo tęsknię po tobie.   \n",
      "4         Panno święta, co Jasnej bronisz Częstochowy   \n",
      "5     I w Ostrej świecisz Bramie! Ty, co gród zamkowy   \n",
      "6        Nowogródzki ochraniasz z jego wiernym ludem!   \n",
      "7        Jak mnie dziecko do zdrowia powróciłaś cudem   \n",
      "8         (— Gdy od płaczącej matki, pod Twoją opiekę   \n",
      "9               Ofiarowany martwą podniosłem powiekę;   \n",
      "10      I zaraz mogłem pieszo, do Twych świątyń progu   \n",
      "11           Iść za wrócone życie podziękować Bogu —)   \n",
      "12       Tak nas powrócisz cudem na Ojczyzny łono!...   \n",
      "13           Tymczasem, przenoś moją duszę utęsknioną   \n",
      "14   Do tych pagórków leśnych, do tych łąk zielonych,   \n",
      "15      Szeroko nad błękitnym Niemnem rozciągnionych;   \n",
      "16           Do tych pól malowanych zbożem rozmaitem,   \n",
      "\n",
      "                                                    1  \n",
      "0   Gdzie bursztynowy świerzop, gryka jak śnieg bi...  \n",
      "1        Gdzie panieńskim rumieńcem dzięcielina pała,  \n",
      "2          A wszystko przepasane jakby wstęgą, miedzą  \n",
      "3       Zieloną, na niej zrzadka ciche grusze siedzą.  \n",
      "4                                                 NaN  \n",
      "5                                                 NaN  \n",
      "6                                                 NaN  \n",
      "7                                                 NaN  \n",
      "8                                                 NaN  \n",
      "9                                                 NaN  \n",
      "10                                                NaN  \n",
      "11                                                NaN  \n",
      "12                                                NaN  \n",
      "13                                                NaN  \n",
      "14                                                NaN  \n",
      "15                                                NaN  \n",
      "16                                                NaN  \n"
     ]
    }
   ],
   "source": [
    "#file3 = file3.drop(file3.columns[2], axis = 1)\n",
    "print(file3)\n"
   ]
  },
  {
   "cell_type": "code",
   "execution_count": null,
   "metadata": {},
   "outputs": [],
   "source": []
  },
  {
   "cell_type": "code",
   "execution_count": null,
   "metadata": {},
   "outputs": [],
   "source": []
  }
 ],
 "metadata": {
  "kernelspec": {
   "display_name": "Python 3",
   "language": "python",
   "name": "python3"
  },
  "language_info": {
   "codemirror_mode": {
    "name": "ipython",
    "version": 3
   },
   "file_extension": ".py",
   "mimetype": "text/x-python",
   "name": "python",
   "nbconvert_exporter": "python",
   "pygments_lexer": "ipython3",
   "version": "3.7.3"
  }
 },
 "nbformat": 4,
 "nbformat_minor": 4
}
