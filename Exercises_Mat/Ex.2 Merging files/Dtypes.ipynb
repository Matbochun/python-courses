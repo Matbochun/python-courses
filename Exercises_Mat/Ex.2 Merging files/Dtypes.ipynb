{
 "cells": [
  {
   "cell_type": "code",
   "execution_count": 18,
   "metadata": {},
   "outputs": [],
   "source": [
    "import pandas as pd\n",
    "df = pd.read_csv('file_1.csv', sep=';', index_col=False, names = ['Tekst', 'Liczba'])"
   ]
  },
  {
   "cell_type": "code",
   "execution_count": 19,
   "metadata": {},
   "outputs": [
    {
     "name": "stdout",
     "output_type": "stream",
     "text": [
      "Tekst     object\n",
      "Liczba     int64\n",
      "dtype: object\n"
     ]
    }
   ],
   "source": [
    "print(df.dtypes)"
   ]
  },
  {
   "cell_type": "code",
   "execution_count": 20,
   "metadata": {},
   "outputs": [],
   "source": [
    "df['Tekst']=df['Tekst'].astype(str)"
   ]
  },
  {
   "cell_type": "code",
   "execution_count": 21,
   "metadata": {},
   "outputs": [
    {
     "name": "stdout",
     "output_type": "stream",
     "text": [
      "Tekst     object\n",
      "Liczba     int64\n",
      "dtype: object\n"
     ]
    }
   ],
   "source": [
    "print(df.dtypes)"
   ]
  },
  {
   "cell_type": "code",
   "execution_count": 23,
   "metadata": {},
   "outputs": [],
   "source": [
    "df1 = df.drop(df.columns[1], axis=1)"
   ]
  },
  {
   "cell_type": "code",
   "execution_count": 24,
   "metadata": {},
   "outputs": [
    {
     "name": "stdout",
     "output_type": "stream",
     "text": [
      "                                                Tekst\n",
      "0        Litwo, Ojczyzno moja! ty jesteś jak zdrowie;\n",
      "1          Ile cię trzeba cenić, ten tylko się dowie,\n",
      "2   Kto cię stracił. Dziś piękność twą w całej ozd...\n",
      "3               Widzę i opisuję, bo tęsknię po tobie.\n",
      "4         Panno święta, co Jasnej bronisz Częstochowy\n",
      "5     I w Ostrej świecisz Bramie! Ty, co gród zamkowy\n",
      "6        Nowogródzki ochraniasz z jego wiernym ludem!\n",
      "7        Jak mnie dziecko do zdrowia powróciłaś cudem\n",
      "8         (— Gdy od płaczącej matki, pod Twoją opiekę\n",
      "9               Ofiarowany martwą podniosłem powiekę;\n",
      "10      I zaraz mogłem pieszo, do Twych świątyń progu\n",
      "11           Iść za wrócone życie podziękować Bogu —)\n",
      "12       Tak nas powrócisz cudem na Ojczyzny łono!...\n",
      "13           Tymczasem, przenoś moją duszę utęsknioną\n",
      "14   Do tych pagórków leśnych, do tych łąk zielonych,\n",
      "15      Szeroko nad błękitnym Niemnem rozciągnionych;\n",
      "16           Do tych pól malowanych zbożem rozmaitem,\n"
     ]
    }
   ],
   "source": [
    "print(df1)"
   ]
  },
  {
   "cell_type": "code",
   "execution_count": null,
   "metadata": {},
   "outputs": [],
   "source": []
  }
 ],
 "metadata": {
  "kernelspec": {
   "display_name": "Python 3",
   "language": "python",
   "name": "python3"
  },
  "language_info": {
   "codemirror_mode": {
    "name": "ipython",
    "version": 3
   },
   "file_extension": ".py",
   "mimetype": "text/x-python",
   "name": "python",
   "nbconvert_exporter": "python",
   "pygments_lexer": "ipython3",
   "version": "3.7.3"
  }
 },
 "nbformat": 4,
 "nbformat_minor": 4
}
