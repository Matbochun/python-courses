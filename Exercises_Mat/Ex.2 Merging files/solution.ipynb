{
 "cells": [
  {
   "cell_type": "code",
   "execution_count": 1,
   "metadata": {},
   "outputs": [],
   "source": [
    "# 1) Stwórz plik file_3, który będzie łączył file 2 i file 1 tak, by file 1 był u góry, a file 2 na dole)\n",
    "# 2) usuń kolumnę z liczbami\n",
    "# 3) wyczyść tekst ze średników, myślników, okrągłych nawiasów\n",
    "\n",
    "import pandas as pd\n",
    "\n",
    "invo_1 = pd.read_csv(\"file_1.csv\", sep=\";\", names=('text', 'number'), encoding='utf8')\n",
    "invo_2 = pd.read_csv(\"file_2.csv\", sep=\";\", names=('text', 'number'), encoding='utf8')\n",
    "\n",
    "file_3 = invo_1.append(invo_2)\n",
    "del file_3['number']\n",
    "\n",
    "file_3['text'] = file_3['text'].str.replace('[\\'\\\",\\(,\\),\\—,]*', '', regex=True)\n",
    "\n",
    "file_3.to_csv('file_3.csv', header=False, index=False)"
   ]
  },
  {
   "cell_type": "code",
   "execution_count": null,
   "metadata": {},
   "outputs": [],
   "source": []
  }
 ],
 "metadata": {
  "kernelspec": {
   "display_name": "Python 3",
   "language": "python",
   "name": "python3"
  },
  "language_info": {
   "codemirror_mode": {
    "name": "ipython",
    "version": 3
   },
   "file_extension": ".py",
   "mimetype": "text/x-python",
   "name": "python",
   "nbconvert_exporter": "python",
   "pygments_lexer": "ipython3",
   "version": "3.7.3"
  }
 },
 "nbformat": 4,
 "nbformat_minor": 4
}
