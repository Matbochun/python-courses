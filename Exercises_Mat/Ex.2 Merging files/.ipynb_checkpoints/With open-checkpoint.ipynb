{
 "cells": [
  {
   "cell_type": "code",
   "execution_count": 9,
   "metadata": {},
   "outputs": [],
   "source": [
    "with open(\"file_1.csv\", \"r\") as file:\n",
    "    cyk = file.readlines()"
   ]
  },
  {
   "cell_type": "code",
   "execution_count": 11,
   "metadata": {},
   "outputs": [
    {
     "data": {
      "text/plain": [
       "'\"Litwo, Ojczyzno moja! ty jesteś jak zdrowie;\";1\\n'"
      ]
     },
     "execution_count": 11,
     "metadata": {},
     "output_type": "execute_result"
    }
   ],
   "source": [
    "cyk[0]"
   ]
  },
  {
   "cell_type": "code",
   "execution_count": 12,
   "metadata": {},
   "outputs": [],
   "source": [
    "with open(\"file_2.csv\", \"r\") as file:\n",
    "    cyk2 = file.readlines()"
   ]
  },
  {
   "cell_type": "code",
   "execution_count": 14,
   "metadata": {},
   "outputs": [],
   "source": [
    "calosc = cyk + cyk2"
   ]
  },
  {
   "cell_type": "code",
   "execution_count": 30,
   "metadata": {},
   "outputs": [
    {
     "name": "stdout",
     "output_type": "stream",
     "text": [
      "Litwo, Ojczyzno moja! ty jesteś jak zdrowie\n",
      "Ile cię trzeba cenić, ten tylko się dowie,\n",
      "Kto cię stracił. Dziś piękność twą w całej ozdobie\n",
      "Widzę i opisuję, bo tęsknię po tobie.\n",
      "Panno święta, co Jasnej bronisz Częstochowy\n",
      "I w Ostrej świecisz Bramie! Ty, co gród zamkowy\n",
      "Nowogródzki ochraniasz z jego wiernym ludem!\n",
      "Jak mnie dziecko do zdrowia powróciłaś cudem\n",
      "— Gdy od płaczącej matki, pod Twoją opiekę\n",
      "Ofiarowany martwą podniosłem powiekę\n",
      "I zaraz mogłem pieszo, do Twych świątyń progu\n",
      "Iść za wrócone życie podziękować Bogu —\n",
      "Tak nas powrócisz cudem na Ojczyzny łono!...\n",
      "Tymczasem, przenoś moją duszę utęsknioną\n",
      "Do tych pagórków leśnych, do tych łąk zielonych,\n",
      "Szeroko nad błękitnym Niemnem rozciągnionych\n",
      "Do tych pól malowanych zbożem rozmaitem\n",
      "Wyzłacanych pszenicą, posrebrzanych żytem\n",
      "Gdzie bursztynowy świerzop, gryka jak śnieg biała,\n",
      "Gdzie panieńskim rumieńcem dzięcielina pała,\n",
      "A wszystko przepasane jakby wstęgą, miedzą\n",
      "Zieloną, na niej zrzadka ciche grusze siedzą\n"
     ]
    }
   ],
   "source": [
    "for line in calosc:\n",
    "    \n",
    "    done = line.replace(\";\", \"\")[:-2].replace('\"', \"\").replace(\"(\", \"\").replace(\")\", \"\")\n",
    "    print(done)"
   ]
  },
  {
   "cell_type": "code",
   "execution_count": null,
   "metadata": {},
   "outputs": [],
   "source": []
  }
 ],
 "metadata": {
  "kernelspec": {
   "display_name": "Python 3",
   "language": "python",
   "name": "python3"
  },
  "language_info": {
   "codemirror_mode": {
    "name": "ipython",
    "version": 3
   },
   "file_extension": ".py",
   "mimetype": "text/x-python",
   "name": "python",
   "nbconvert_exporter": "python",
   "pygments_lexer": "ipython3",
   "version": "3.7.2"
  }
 },
 "nbformat": 4,
 "nbformat_minor": 4
}
