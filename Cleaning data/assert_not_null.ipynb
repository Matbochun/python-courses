{
 "cells": [
  {
   "cell_type": "code",
   "execution_count": null,
   "metadata": {},
   "outputs": [],
   "source": [
    "# Assert that there are no missing values in ebola DataFrame\n",
    "# The first .all() method will return a True or False for each column, while the second .all() method will return a single True or False.\n",
    "assert pd.notnull(ebola).all().all()\n",
    "\n",
    "# Write an assert statement to confirm that all values in ebola are greater than or equal to 0\n",
    "assert (ebola >= 0).all().all()"
   ]
  }
 ],
 "metadata": {
  "kernelspec": {
   "display_name": "Python 3",
   "language": "python",
   "name": "python3"
  },
  "language_info": {
   "codemirror_mode": {
    "name": "ipython",
    "version": 3
   },
   "file_extension": ".py",
   "mimetype": "text/x-python",
   "name": "python",
   "nbconvert_exporter": "python",
   "pygments_lexer": "ipython3",
   "version": "3.7.3"
  }
 },
 "nbformat": 4,
 "nbformat_minor": 4
}
