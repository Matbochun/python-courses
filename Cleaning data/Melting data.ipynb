{
 "cells": [
  {
   "cell_type": "code",
   "execution_count": null,
   "metadata": {},
   "outputs": [],
   "source": [
    "import pandas as pd\n",
    "\n",
    "pd.melt(frame=df, id_vars='name', value_vars =['treatment_a', 'treatment_b'], var_name='treatment', value_name='result')\n",
    "# frame - specifies data frame\n",
    "# id_vars - indicates column we don't want to melt\n",
    "# value_vars - points which columns we want to melt\n",
    "# var_name - gives a column name for melted columns\n",
    "# value_name - gives a column name for results\n",
    "# if we specify only id_vars, all columns that are not specified will be melted"
   ]
  }
 ],
 "metadata": {
  "kernelspec": {
   "display_name": "Python 3",
   "language": "python",
   "name": "python3"
  },
  "language_info": {
   "codemirror_mode": {
    "name": "ipython",
    "version": 3
   },
   "file_extension": ".py",
   "mimetype": "text/x-python",
   "name": "python",
   "nbconvert_exporter": "python",
   "pygments_lexer": "ipython3",
   "version": "3.7.3"
  }
 },
 "nbformat": 4,
 "nbformat_minor": 4
}
