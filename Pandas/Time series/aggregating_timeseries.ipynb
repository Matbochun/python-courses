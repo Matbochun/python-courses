{
 "cells": [
  {
   "cell_type": "code",
   "execution_count": null,
   "metadata": {},
   "outputs": [],
   "source": [
    "# Using df_clean, when is sky_condition 'CLR'?\n",
    "is_sky_clear = df_clean['sky_condition']=='CLR'\n",
    "\n",
    "# Filter df_clean using is_sky_clear\n",
    "sunny = df_clean.loc[is_sky_clear]\n",
    "\n",
    "# Resample sunny by day then calculate the max\n",
    "sunny_daily_max = sunny.resample('D').max()\n",
    "\n",
    "# See the result\n",
    "sunny_daily_max.head()"
   ]
  },
  {
   "cell_type": "code",
   "execution_count": null,
   "metadata": {},
   "outputs": [],
   "source": [
    "# Using df_clean, when does sky_condition contain 'OVC'?\n",
    "is_sky_overcast = df_clean['sky_condition'].str.contains('OVC')\n",
    "\n",
    "# Filter df_clean using is_sky_overcast\n",
    "overcast = df_clean[is_sky_overcast]\n",
    "\n",
    "# Resample overcast by day then calculate the max\n",
    "overcast_daily_max = overcast.resample('D').max()\n",
    "\n",
    "# See the result\n",
    "overcast_daily_max.head()"
   ]
  },
  {
   "cell_type": "code",
   "execution_count": null,
   "metadata": {},
   "outputs": [],
   "source": [
    "# From previous steps\n",
    "is_sky_clear = df_clean['sky_condition']=='CLR'\n",
    "sunny = df_clean.loc[is_sky_clear]\n",
    "sunny_daily_max = sunny.resample('D').max()\n",
    "is_sky_overcast = df_clean['sky_condition'].str.contains('OVC')\n",
    "overcast = df_clean.loc[is_sky_overcast]\n",
    "overcast_daily_max = overcast.resample('D').max()\n",
    "\n",
    "# Calculate the mean of sunny_daily_max\n",
    "sunny_daily_max_mean = sunny_daily_max.mean()\n",
    "\n",
    "# Calculate the mean of overcast_daily_max\n",
    "overcast_daily_max_mean = overcast_daily_max.mean()\n",
    "\n",
    "# Print the difference (sunny minus overcast)\n",
    "print(sunny_daily_max_mean - overcast_daily_max_mean)"
   ]
  },
  {
   "cell_type": "code",
   "execution_count": null,
   "metadata": {},
   "outputs": [],
   "source": [
    "# From previous step\n",
    "is_sky_clear = df_clean['sky_condition'] == 'CLR'\n",
    "resampled = is_sky_clear.resample('D')\n",
    "\n",
    "# Calculate the number of sunny hours per day\n",
    "sunny_hours = resampled.sum()\n",
    "\n",
    "# Calculate the number of measured hours per day\n",
    "total_hours = resampled.count()\n",
    "\n",
    "# Calculate the fraction of hours per day that were sunny\n",
    "sunny_fraction = sunny_hours/total_hours"
   ]
  }
 ],
 "metadata": {
  "kernelspec": {
   "display_name": "Python 3",
   "language": "python",
   "name": "python3"
  },
  "language_info": {
   "codemirror_mode": {
    "name": "ipython",
    "version": 3
   },
   "file_extension": ".py",
   "mimetype": "text/x-python",
   "name": "python",
   "nbconvert_exporter": "python",
   "pygments_lexer": "ipython3",
   "version": "3.7.3"
  }
 },
 "nbformat": 4,
 "nbformat_minor": 4
}
