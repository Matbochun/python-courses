{
 "cells": [
  {
   "cell_type": "code",
   "execution_count": 1,
   "metadata": {},
   "outputs": [],
   "source": [
    "import pandas as pd\n",
    "import numpy as np"
   ]
  },
  {
   "cell_type": "markdown",
   "metadata": {},
   "source": [
    "30.How to create a TimeSeries starting ‘2019-08-31’ and 10 weekends (saturdays) after that having random numbers as values?\n",
    "Difficiulty Level: L2"
   ]
  },
  {
   "cell_type": "code",
   "execution_count": 2,
   "metadata": {},
   "outputs": [
    {
     "data": {
      "text/plain": [
       "2019-08-31    9\n",
       "2019-09-07    1\n",
       "2019-09-14    5\n",
       "2019-09-21    3\n",
       "2019-09-28    3\n",
       "2019-10-05    8\n",
       "2019-10-12    3\n",
       "2019-10-19    9\n",
       "2019-10-26    4\n",
       "2019-11-02    5\n",
       "Freq: W-SAT, dtype: int32"
      ]
     },
     "execution_count": 2,
     "metadata": {},
     "output_type": "execute_result"
    }
   ],
   "source": [
    "ser = pd.Series(np.random.randint(1,10,10), pd.date_range('2019-08-31', periods=10, freq='W-SAT'))\n",
    "ser"
   ]
  },
  {
   "cell_type": "raw",
   "metadata": {},
   "source": [
    "33.Import every 50th row of BostonHousing dataset as a dataframe."
   ]
  },
  {
   "cell_type": "code",
   "execution_count": 3,
   "metadata": {},
   "outputs": [
    {
     "name": "stdout",
     "output_type": "stream",
     "text": [
      "Empty DataFrame\n",
      "Columns: [Child's First Name, Count, Ethnicity, Gender, Rank, Year of Birth]\n",
      "Index: []\n",
      "Index(['Child's First Name', 'Count', 'Ethnicity', 'Gender', 'Rank',\n",
      "       'Year of Birth'],\n",
      "      dtype='object')\n"
     ]
    }
   ],
   "source": [
    "# Solution 1: Use chunks and for-loop\n",
    "df = pd.read_csv('Popular_Baby_Names.csv', chunksize=50)\n",
    "df2 = pd.DataFrame()\n",
    "for chunk in df:\n",
    "    df2 = df2.append(chunk.iloc[0,:])\n",
    "\n",
    "print(df2.head(0))\n",
    "print(df2.columns)"
   ]
  },
  {
   "cell_type": "code",
   "execution_count": 4,
   "metadata": {},
   "outputs": [
    {
     "name": "stdout",
     "output_type": "stream",
     "text": [
      "    Child's First Name  Count                   Ethnicity  Gender  Rank  \\\n",
      "0               Olivia  172.0  ASIAN AND PACIFIC ISLANDER  FEMALE   1.0   \n",
      "50             Tiffany   25.0  ASIAN AND PACIFIC ISLANDER  FEMALE  26.0   \n",
      "100            Hoorain   16.0  ASIAN AND PACIFIC ISLANDER  FEMALE  35.0   \n",
      "150               Kira   11.0  ASIAN AND PACIFIC ISLANDER  FEMALE  40.0   \n",
      "200              Malia   38.0          BLACK NON HISPANIC  FEMALE  16.0   \n",
      "250             Jordyn   22.0          BLACK NON HISPANIC  FEMALE  31.0   \n",
      "300             Londyn   14.0          BLACK NON HISPANIC  FEMALE  39.0   \n",
      "350               Hope   10.0          BLACK NON HISPANIC  FEMALE  43.0   \n",
      "400           Juliette   49.0                    HISPANIC  FEMALE  38.0   \n",
      "\n",
      "     Year of Birth  \n",
      "0           2016.0  \n",
      "50          2016.0  \n",
      "100         2016.0  \n",
      "150         2016.0  \n",
      "200         2016.0  \n",
      "250         2016.0  \n",
      "300         2016.0  \n",
      "350         2016.0  \n",
      "400         2016.0  \n"
     ]
    }
   ],
   "source": [
    "df_cut = df2.iloc[:9,:]\n",
    "print(df_cut)"
   ]
  },
  {
   "cell_type": "code",
   "execution_count": 5,
   "metadata": {},
   "outputs": [],
   "source": [
    "df_cut.to_csv('baby_top', sep=',', index=0)"
   ]
  },
  {
   "cell_type": "code",
   "execution_count": 6,
   "metadata": {},
   "outputs": [
    {
     "name": "stdout",
     "output_type": "stream",
     "text": [
      "  Child's First Name  Count                   Ethnicity  Gender  Rank  \\\n",
      "0             Olivia  172.0  ASIAN AND PACIFIC ISLANDER  FEMALE   1.0   \n",
      "1            Tiffany   25.0  ASIAN AND PACIFIC ISLANDER  FEMALE  26.0   \n",
      "2            Hoorain   16.0  ASIAN AND PACIFIC ISLANDER  FEMALE  35.0   \n",
      "3               Kira   11.0  ASIAN AND PACIFIC ISLANDER  FEMALE  40.0   \n",
      "4              Malia   38.0          BLACK NON HISPANIC  FEMALE  16.0   \n",
      "\n",
      "   Year of Birth  \n",
      "0         2016.0  \n",
      "1         2016.0  \n",
      "2         2016.0  \n",
      "3         2016.0  \n",
      "4         2016.0  \n"
     ]
    }
   ],
   "source": [
    "new_df =pd.read_csv('baby_top')\n",
    "print(new_df.head())"
   ]
  },
  {
   "cell_type": "raw",
   "metadata": {},
   "source": [
    "39. Rename a specific column in DataFrame"
   ]
  },
  {
   "cell_type": "code",
   "execution_count": 7,
   "metadata": {},
   "outputs": [
    {
     "name": "stdout",
     "output_type": "stream",
     "text": [
      "Index(['First name', 'Count', 'Ethnicity', 'Gender', 'Rank', 'Year of Birth'], dtype='object')\n"
     ]
    }
   ],
   "source": [
    "# 1 Rename 'Child's first name' by 'First name'\n",
    "new_df=new_df.rename(columns = {'Child\\'s First Name':'First name'})\n",
    "print(new_df.columns)"
   ]
  },
  {
   "cell_type": "code",
   "execution_count": null,
   "metadata": {},
   "outputs": [],
   "source": [
    "# 2 Add '.com' to each column name\n",
    "new_df = new_df.add_suffix('us')\n",
    "print(new_df.columns)"
   ]
  },
  {
   "cell_type": "code",
   "execution_count": null,
   "metadata": {},
   "outputs": [],
   "source": []
  }
 ],
 "metadata": {
  "kernelspec": {
   "display_name": "Python 3",
   "language": "python",
   "name": "python3"
  },
  "language_info": {
   "codemirror_mode": {
    "name": "ipython",
    "version": 3
   },
   "file_extension": ".py",
   "mimetype": "text/x-python",
   "name": "python",
   "nbconvert_exporter": "python",
   "pygments_lexer": "ipython3",
   "version": "3.7.3"
  }
 },
 "nbformat": 4,
 "nbformat_minor": 4
}
