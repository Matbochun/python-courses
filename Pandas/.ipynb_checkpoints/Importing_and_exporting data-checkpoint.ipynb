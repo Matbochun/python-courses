{
 "cells": [
  {
   "cell_type": "raw",
   "metadata": {},
   "source": [
    "Importing data\n",
    "\n",
    "header=None             tells there that columns have no headers and assignes numbers from 0 to column names\n",
    "header=0                the column names are inferred from the first line of the file\n",
    "names=[' ', ' ', ...]   gives the names to the columns\n",
    "na_values = '-1'        turns negative values into NaN - not-a-number values\n",
    "parse_dates = [[0,1,2]] turns dates from first three columns(y-m-d) into a single date column 'year_month_data'\n",
    "index=False             without index\n",
    "index=0                 rows count starts with 0 "
   ]
  },
  {
   "cell_type": "code",
   "execution_count": null,
   "metadata": {},
   "outputs": [],
   "source": [
    "# Wrtiting DataFrame into csv\n",
    "out_csv = 'final_file_name.csv'\n",
    "df.to_csv(out_csv)\n",
    "\n",
    "# Writing DataFrame into xlsx\n",
    "out_xlsx = 'final_file_name.csv'\n",
    "df.to_excel(out_xlsx)"
   ]
  }
 ],
 "metadata": {
  "kernelspec": {
   "display_name": "Python 3",
   "language": "python",
   "name": "python3"
  },
  "language_info": {
   "codemirror_mode": {
    "name": "ipython",
    "version": 3
   },
   "file_extension": ".py",
   "mimetype": "text/x-python",
   "name": "python",
   "nbconvert_exporter": "python",
   "pygments_lexer": "ipython3",
   "version": "3.7.3"
  }
 },
 "nbformat": 4,
 "nbformat_minor": 4
}
